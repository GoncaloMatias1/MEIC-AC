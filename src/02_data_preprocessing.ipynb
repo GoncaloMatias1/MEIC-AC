{
 "cells": [
  {
   "cell_type": "markdown",
   "metadata": {},
   "source": [
    "## **II - Data Preprocessing**\n",
    "In some datasets, there are missing values, outliers, and categorical variables. These issues can affect the performance of the model. Therefore, it is important to preprocess the data before training the model. In this notebook, we will preprocess the data by filling the missing values, encoding the categorical variables, and scaling the features.\n"
   ]
  },
  {
   "cell_type": "markdown",
   "metadata": {},
   "source": [
    "### **II.1 Importing the Libraries and Loading the Data**"
   ]
  },
  {
   "cell_type": "code",
   "execution_count": 2,
   "metadata": {},
   "outputs": [],
   "source": [
    "import pandas as pd\n",
    "import numpy as np\n",
    "import matplotlib.pyplot as plt\n",
    "import seaborn as sns\n",
    "import os\n",
    "\n",
    "awards_players = pd.read_csv('../data/basketballPlayoffs/awards_players.csv')\n",
    "coaches = pd.read_csv('../data/basketballPlayoffs/coaches.csv')\n",
    "players = pd.read_csv('../data/basketballPlayoffs/players.csv')\n",
    "players_teams = pd.read_csv('../data/basketballPlayoffs/players_teams.csv')\n",
    "series_post = pd.read_csv('../data/basketballPlayoffs/series_post.csv')\n",
    "teams = pd.read_csv('../data/basketballPlayoffs/teams.csv')\n",
    "teams_post = pd.read_csv('../data/basketballPlayoffs/teams_post.csv')"
   ]
  },
  {
   "cell_type": "markdown",
   "metadata": {},
   "source": [
    "### **II.2 Maping the Categorical Variables**\n",
    "Map categorical values (teams, arenas, awards) to numerical codes for model training."
   ]
  },
  {
   "cell_type": "code",
   "execution_count": 3,
   "metadata": {},
   "outputs": [],
   "source": [
    "map_teams = {\n",
    "    'ATL': 0, 'CHA': 1, 'CHI': 2, 'CLE': 3, 'CON': 4, \n",
    "    'DET': 5, 'HOU': 6, 'IND': 7, 'LAS': 8, 'MIA': 9, \n",
    "    'MIN': 10, 'NYL': 11, 'ORL': 12, 'PHO': 13, 'POR': 14, \n",
    "    'SAC': 15, 'SAS': 16, 'SEA': 17, 'UTA': 18, 'WAS': 19\n",
    "}\n",
    "\n",
    "map_teams_name = {\n",
    "    'Atlanta Dream': 0, 'Charlotte Sting': 1, 'Chicago Sky': 2, \n",
    "    'Cleveland Rockers': 3, 'Connecticut Sun': 4, 'Detroit Shock': 5, \n",
    "    'Houston Comets': 6, 'Indiana Fever': 7, 'Los Angeles Sparks': 8, \n",
    "    'Miami Sol': 9, 'Minnesota Lynx': 10, 'New York Liberty': 11, \n",
    "    'Orlando Miracle': 12, 'Phoenix Mercury': 13, 'Portland Fire': 14, \n",
    "    'Sacramento Monarchs': 15, 'San Antonio Silver Stars': 16, \n",
    "    'Seattle Storm': 17, 'Utah Starzz': 18, 'Washington Mystics': 19\n",
    "}\n",
    "\n",
    "map_arenas = {\n",
    "    'Philips Arena': 0, 'Charlotte Coliseum': 1, 'Time Warner Cable Arena': 2, \n",
    "    'UIC Pavilion': 3, 'Quicken Loans Arena': 4, 'Mohegan Sun Arena': 5, \n",
    "    'The Palace of Auburn Hills': 6, 'Compaq Center': 7, 'Toyota Center': 8, \n",
    "    'Conseco Fieldhouse': 9, 'Staples Center': 10, 'AmericanAirlines Arena': 11, \n",
    "    'Target Center': 12, 'Madison Square Garden (IV)': 13, 'Amway Arena': 14, \n",
    "    'US Airways Center': 15, 'Rose Garden Arena': 16, 'ARCO Arena (II)': 17, \n",
    "    'AT&T Center': 18, 'KeyArena at Seattle Center': 19, \n",
    "    'EnergySolutions Arena': 20, 'Verizon Center': 21\n",
    "}\n",
    "\n",
    "map_awards = {\n",
    "    'All-Star Game Most Valuable Player': 0,\n",
    "    'Coach of the Year': 1,\n",
    "    'Defensive Player of the Year': 2,\n",
    "    'Kim Perrot Sportsmanship Award': 3,\n",
    "    'Kim Perrot Sportsmanship': 3,\n",
    "    'Most Improved Player': 4,\n",
    "    'Most Valuable Player': 5,\n",
    "    'Rookie of the Year': 6,\n",
    "    'Sixth Woman of the Year': 7,\n",
    "    'WNBA Finals Most Valuable Player': 8,\n",
    "    'WNBA All-Decade Team': 9,\n",
    "    'WNBA All Decade Team Honorable Mention': 10\n",
    "}"
   ]
  },
  {
   "cell_type": "markdown",
   "metadata": {},
   "source": [
    "### **II.3 Plot Functions**\n",
    "Define plot functions to visualize the data."
   ]
  },
  {
   "cell_type": "code",
   "execution_count": 11,
   "metadata": {},
   "outputs": [],
   "source": [
    "def plot_missing_values(df, title):\n",
    "    missing_values = df.isnull().sum()\n",
    "    missing_values = missing_values[missing_values > 0]  \n",
    "    \n",
    "    if len(missing_values) > 0:\n",
    "        plt.figure(figsize=(10, 6))\n",
    "        missing_values.plot(kind='bar')\n",
    "        plt.title(f'Missing Values in {title}')\n",
    "        plt.ylabel('Number of Missing Values')\n",
    "        plt.xlabel('Columns')\n",
    "        plt.xticks(rotation=45)\n",
    "        plt.show()\n",
    "    else:\n",
    "        print(f'No missing values in {title}')"
   ]
  },
  {
   "cell_type": "markdown",
   "metadata": {},
   "source": [
    "### **II.4 Players Data Preprocessing**"
   ]
  },
  {
   "cell_type": "markdown",
   "metadata": {},
   "source": [
    "The Players dataset needs further preprocessing, including dealing with missing values, correcting invalid data, and converting player positions into numerical values."
   ]
  },
  {
   "cell_type": "code",
   "execution_count": null,
   "metadata": {},
   "outputs": [],
   "source": [
    "players['pos'] = players['pos'].replace({'G-C': 'C-G', 'F-G': 'G-F'})\n",
    "\n",
    "positions = players['pos'].unique()\n",
    "map_positions = {pos: i for i, pos in enumerate(positions)}\n",
    "\n",
    "players['pos'] = players['pos'].map(map_positions)"
   ]
  },
  {
   "cell_type": "markdown",
   "metadata": {},
   "source": [
    "Remove players with invalid death dates and unnecessary columns, filter players without birth dates, identify relevant players in the teams table, and drop those with missing birth dates."
   ]
  },
  {
   "cell_type": "code",
   "execution_count": null,
   "metadata": {},
   "outputs": [],
   "source": [
    "players['birthDate'] = pd.to_datetime(players['birthDate'], errors='coerce')\n",
    "\n",
    "players_cleaned = players[players['deathDate'] == '0000-00-00'].drop(columns=['deathDate','firstseason','lastseason'])\n",
    "\n",
    "players_cleaned = players_cleaned.drop(columns=['collegeOther'])\n",
    "\n",
    "players_no_birthdate = players_cleaned[players_cleaned['birthDate'].isnull()]\n",
    "\n",
    "players_no_birthdate_teams = players_no_birthdate[players_no_birthdate['bioID'].isin(players_teams['playerID'])]\n",
    "\n",
    "print(\"\\nPlayers with no birthdate that are in the teams_players table:\")\n",
    "\n",
    "print(players_no_birthdate_teams)\n",
    "\n",
    "indices_to_rem = players_no_birthdate.index\n",
    "\n",
    "players_cleaned = players_cleaned.drop(indices_to_rem)\n",
    "\n",
    "print(players_cleaned)"
   ]
  },
  {
   "cell_type": "markdown",
   "metadata": {},
   "source": [
    "Check for missing values in the datasets."
   ]
  },
  {
   "cell_type": "code",
   "execution_count": null,
   "metadata": {},
   "outputs": [],
   "source": [
    "plot_missing_values(players_cleaned, 'Players')"
   ]
  },
  {
   "cell_type": "markdown",
   "metadata": {},
   "source": [
    "### **II.5 Coaches Data Preprocessing**\n",
    "In the Coaches dataset, we apply a similar mapping to team IDs."
   ]
  },
  {
   "cell_type": "code",
   "execution_count": 9,
   "metadata": {},
   "outputs": [],
   "source": [
    "coaches['tmID'] = coaches['tmID'].map(map_teams)"
   ]
  },
  {
   "cell_type": "markdown",
   "metadata": {},
   "source": [
    "Drop the columns that are not needed for the analysis."
   ]
  },
  {
   "cell_type": "code",
   "execution_count": 10,
   "metadata": {},
   "outputs": [],
   "source": [
    "coaches_cleaned = coaches.drop(columns=['lgID'])"
   ]
  },
  {
   "cell_type": "markdown",
   "metadata": {},
   "source": [
    "Check for missing values in the datasets."
   ]
  },
  {
   "cell_type": "code",
   "execution_count": null,
   "metadata": {},
   "outputs": [],
   "source": [
    "print(\"\\nMissing Values in Coaches:\")\n",
    "print(coaches_cleaned.isnull().sum())"
   ]
  },
  {
   "cell_type": "markdown",
   "metadata": {},
   "source": [
    "### **II.6 Teams Data Preprocessing**\n",
    "\n",
    "In the Teams dataset, we will map some values (like team names and playoff outcomes) to numerical representations."
   ]
  },
  {
   "cell_type": "code",
   "execution_count": null,
   "metadata": {},
   "outputs": [],
   "source": [
    "#pd.set_option('future.no_silent_downcasting', True)\n",
    "\n",
    "# Função para substituir valores\n",
    "def replace_values(df, column, old_values, new_values):\n",
    "    return df[column].replace(dict(zip(old_values, new_values)))\n",
    "\n",
    "\n",
    "teams['firstRound'] = replace_values(teams, 'firstRound', ['L', 'W'], [0, 1])\n",
    "teams['semis'] = replace_values(teams, 'semis', ['L', 'W'], [0, 1])\n",
    "teams['finals'] = replace_values(teams, 'finals', ['L', 'W'], [0, 1])\n",
    "teams['playoff'] = replace_values(teams, 'playoff', ['N', 'Y'], [0, 1])\n",
    "teams['confID'] = replace_values(teams, 'confID', ['EA', 'WE'], [0, 1])\n",
    "teams['tmID'] = teams['tmID'].replace(map_teams)\n",
    "teams['franchID'] = teams['franchID'].replace(map_teams)\n",
    "teams['name'] = teams['name'].replace(map_teams_name)\n",
    "teams['arena'] = teams['arena'].replace(map_arenas)"
   ]
  },
  {
   "cell_type": "markdown",
   "metadata": {},
   "source": [
    "Drop the columns that are not needed for the analysis."
   ]
  },
  {
   "cell_type": "code",
   "execution_count": 9,
   "metadata": {},
   "outputs": [],
   "source": [
    "teams_cleaned = teams.drop(columns=['lgID'])"
   ]
  },
  {
   "cell_type": "markdown",
   "metadata": {},
   "source": [
    "Check for missing values in the datasets."
   ]
  },
  {
   "cell_type": "code",
   "execution_count": null,
   "metadata": {},
   "outputs": [],
   "source": [
    "print(\"\\nMissing Values in Teams:\")\n",
    "print(teams_cleaned.isnull().sum())\n",
    "\n",
    "plot_missing_values(teams_cleaned, 'Teams')"
   ]
  },
  {
   "cell_type": "markdown",
   "metadata": {},
   "source": [
    "Drop the columns with missing values"
   ]
  },
  {
   "cell_type": "code",
   "execution_count": 17,
   "metadata": {},
   "outputs": [],
   "source": [
    "teams_cleaned.drop(columns=['franchID','divID'])\n",
    "\n",
    "#Assuming that the missing values in firstRound, semis and finals represent that the team didn't reach that stage we will replace all the missing values by the number 2\n",
    "teams_cleaned['firstRound'] = teams_cleaned['firstRound'].fillna(2)\n",
    "teams_cleaned['semis'] = teams_cleaned['semis'].fillna(2)\n",
    "teams_cleaned['finals'] = teams_cleaned['finals'].fillna(2)"
   ]
  },
  {
   "cell_type": "markdown",
   "metadata": {},
   "source": [
    "### **II.7 Players Teams Data Preprocessing**\n",
    "\n",
    "In the Players Teams dataset, we will map some values (like team names) to numerical representations."
   ]
  },
  {
   "cell_type": "code",
   "execution_count": 18,
   "metadata": {},
   "outputs": [],
   "source": [
    "players_teams['tmID'] = players_teams['tmID'].map(map_teams)"
   ]
  },
  {
   "cell_type": "markdown",
   "metadata": {},
   "source": [
    "Drop the columns that are not needed for the analysis."
   ]
  },
  {
   "cell_type": "code",
   "execution_count": 19,
   "metadata": {},
   "outputs": [],
   "source": [
    "players_teams_cleaned = players_teams.drop(columns=['lgID'])"
   ]
  },
  {
   "cell_type": "markdown",
   "metadata": {},
   "source": [
    "Check for missing values in the datasets."
   ]
  },
  {
   "cell_type": "code",
   "execution_count": null,
   "metadata": {},
   "outputs": [],
   "source": [
    "print(\"\\nMissing Values in Players Teams:\")\n",
    "print(players_teams_cleaned.isnull().sum())"
   ]
  },
  {
   "cell_type": "markdown",
   "metadata": {},
   "source": [
    "### **II.8 Player Awards Data Preprocessing**\n",
    "\n",
    "In the Awards Players dataset, we will map some values (like team names) to numerical representations."
   ]
  },
  {
   "cell_type": "code",
   "execution_count": 22,
   "metadata": {},
   "outputs": [],
   "source": [
    "awards_players['award'].replace(map_awards, inplace=True)"
   ]
  },
  {
   "cell_type": "markdown",
   "metadata": {},
   "source": [
    "Drop the columns that are not needed for the analysis."
   ]
  },
  {
   "cell_type": "code",
   "execution_count": 23,
   "metadata": {},
   "outputs": [],
   "source": [
    "awards_players_cleaned = awards_players.drop(columns=['lgID'])"
   ]
  },
  {
   "cell_type": "markdown",
   "metadata": {},
   "source": [
    "Check for missing values in the dataset."
   ]
  },
  {
   "cell_type": "code",
   "execution_count": null,
   "metadata": {},
   "outputs": [],
   "source": [
    "print(\"Missing Values in Awards Players:\")\n",
    "print(awards_players_cleaned.isnull().sum())"
   ]
  },
  {
   "cell_type": "markdown",
   "metadata": {},
   "source": [
    "### **II.9 Series Post Data Preprocessing**\n",
    "In the Series Post dataset, we will map some values (like playoff outcomes) to numerical representations."
   ]
  },
  {
   "cell_type": "code",
   "execution_count": 25,
   "metadata": {},
   "outputs": [],
   "source": [
    "series_post['tmIDWinner'] = series_post['tmIDWinner'].map(map_teams)\n",
    "series_post['tmIDLoser'] = series_post['tmIDLoser'].map(map_teams)"
   ]
  },
  {
   "cell_type": "markdown",
   "metadata": {},
   "source": [
    "Drop the columns that are not needed for the analysis."
   ]
  },
  {
   "cell_type": "code",
   "execution_count": 26,
   "metadata": {},
   "outputs": [],
   "source": [
    "series_post_cleaned = series_post.drop(columns=['lgIDWinner','lgIDLoser'])"
   ]
  },
  {
   "cell_type": "markdown",
   "metadata": {},
   "source": [
    "Check for missing values in the datasets."
   ]
  },
  {
   "cell_type": "code",
   "execution_count": null,
   "metadata": {},
   "outputs": [],
   "source": [
    "print(\"\\nMissing Values in Series Post:\")\n",
    "print(series_post_cleaned.isnull().sum())"
   ]
  },
  {
   "cell_type": "markdown",
   "metadata": {},
   "source": [
    "### **II.10 Teams Post Data Preprocessing**\n",
    "In the **Teams Post** dataset, we will map some values (like playoff outcomes) to numerical representations."
   ]
  },
  {
   "cell_type": "code",
   "execution_count": 28,
   "metadata": {},
   "outputs": [],
   "source": [
    "teams_post['tmID'] = teams_post['tmID'].map(map_teams)"
   ]
  },
  {
   "cell_type": "markdown",
   "metadata": {},
   "source": [
    "Drop the columns that are not needed for the analysis."
   ]
  },
  {
   "cell_type": "code",
   "execution_count": 29,
   "metadata": {},
   "outputs": [],
   "source": [
    "teams_post_cleaned = teams_post.drop(columns=['lgID'])"
   ]
  },
  {
   "cell_type": "markdown",
   "metadata": {},
   "source": [
    "Check for missing values in the datasets."
   ]
  },
  {
   "cell_type": "code",
   "execution_count": null,
   "metadata": {},
   "outputs": [],
   "source": [
    "print(\"\\nMissing Values in Teams Post:\")\n",
    "print(teams_post_cleaned.isnull().sum())"
   ]
  },
  {
   "cell_type": "markdown",
   "metadata": {},
   "source": [
    "### **II.11 Creating Output Directory and Exporting Cleaned DataFrames to new CSV files**\n",
    "After preprocessing, export each cleaned dataset to new CSV files. This saves the refined data, making it easier to load for future analysis and model training."
   ]
  },
  {
   "cell_type": "code",
   "execution_count": null,
   "metadata": {},
   "outputs": [],
   "source": [
    "os.makedirs('../data/basketballPlayoffs_cleaned', exist_ok=True)\n",
    "\n",
    "awards_players_cleaned.to_csv('../data/basketballPlayoffs_cleaned/awards_players_cleaned.csv', index=False)\n",
    "coaches_cleaned.to_csv('../data/basketballPlayoffs_cleaned/coaches_cleaned.csv', index=False)\n",
    "players_teams_cleaned.to_csv('../data/basketballPlayoffs_cleaned/players_teams_cleaned.csv', index=False)\n",
    "players_cleaned.to_csv('../data/basketballPlayoffs_cleaned/players_cleaned.csv', index=False)\n",
    "series_post_cleaned.to_csv('../data/basketballPlayoffs_cleaned/series_post_cleaned.csv', index=False)\n",
    "teams_post_cleaned.to_csv('../data/basketballPlayoffs_cleaned/teams_post_cleaned.csv', index=False)\n",
    "teams_cleaned.to_csv('../data/basketballPlayoffs_cleaned/teams_cleaned.csv', index=False)"
   ]
  },
  {
   "cell_type": "markdown",
   "metadata": {},
   "source": [
    "### **II.12 Dealing with players weight missing data**\n",
    "Lets import the new cleaned dataset so we can deal with the missing data"
   ]
  },
  {
   "cell_type": "code",
   "execution_count": 33,
   "metadata": {},
   "outputs": [],
   "source": [
    "players_cleaned = pd.read_csv('../data/basketballPlayoffs_cleaned/players_cleaned.csv')"
   ]
  },
  {
   "cell_type": "markdown",
   "metadata": {},
   "source": [
    "This code calculates the weight of players using an ideal Body Mass Index (BMI) of 22 and rounding the resulting weights to integers."
   ]
  },
  {
   "cell_type": "code",
   "execution_count": 34,
   "metadata": {},
   "outputs": [],
   "source": [
    "ideal_bmi = 22\n",
    "\n",
    "players_cleaned['height_m'] = players_cleaned['height'] * 0.0254\n",
    "\n",
    "players_cleaned.loc[players_cleaned['weight'] == 0, 'weight'] = (ideal_bmi * (players_cleaned['height_m'] ** 2) / 0.453592).round(0)\n",
    "\n",
    "players_cleaned['weight'] = players_cleaned['weight'].astype(int)\n",
    "\n",
    "players_cleaned.drop(columns=['height_m'], inplace=True)"
   ]
  },
  {
   "cell_type": "markdown",
   "metadata": {},
   "source": [
    "Export updated dataframe with weights"
   ]
  },
  {
   "cell_type": "code",
   "execution_count": 35,
   "metadata": {},
   "outputs": [],
   "source": [
    "players_cleaned.to_csv('../data/basketballPlayoffs_cleaned/players_cleaned.csv', index=False)"
   ]
  }
 ],
 "metadata": {
  "kernelspec": {
   "display_name": "Python 3",
   "language": "python",
   "name": "python3"
  },
  "language_info": {
   "codemirror_mode": {
    "name": "ipython",
    "version": 3
   },
   "file_extension": ".py",
   "mimetype": "text/x-python",
   "name": "python",
   "nbconvert_exporter": "python",
   "pygments_lexer": "ipython3",
   "version": "3.12.3"
  }
 },
 "nbformat": 4,
 "nbformat_minor": 2
}
