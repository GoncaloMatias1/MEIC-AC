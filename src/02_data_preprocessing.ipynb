{
 "cells": [
  {
   "cell_type": "markdown",
   "metadata": {},
   "source": [
    "## II - Data Preprocessing"
   ]
  },
  {
   "cell_type": "markdown",
   "metadata": {},
   "source": [
    "\n",
    "\n",
    "In some datasets, there are missing values, outliers, and categorical variables. These issues can affect the performance of the model. Therefore, it is important to preprocess the data before training the model. In this notebook, we will preprocess the data by filling the missing values, encoding the categorical variables, and scaling the features."
   ]
  },
  {
   "cell_type": "markdown",
   "metadata": {},
   "source": [
    "### II.1 Importing the Libraries and Loading the Data"
   ]
  },
  {
   "cell_type": "code",
   "execution_count": 43,
   "metadata": {},
   "outputs": [],
   "source": [
    "import pandas as pd\n",
    "import numpy as np\n",
    "import matplotlib.pyplot as plt\n",
    "import seaborn as sns\n",
    "import os\n",
    "\n",
    "awards_players = pd.read_csv('../data/basketballPlayoffs/awards_players.csv')\n",
    "coaches = pd.read_csv('../data/basketballPlayoffs/coaches.csv')\n",
    "players = pd.read_csv('../data/basketballPlayoffs/players.csv')\n",
    "players_teams = pd.read_csv('../data/basketballPlayoffs/players_teams.csv')\n",
    "series_post = pd.read_csv('../data/basketballPlayoffs/series_post.csv')\n",
    "teams = pd.read_csv('../data/basketballPlayoffs/teams.csv')\n",
    "teams_post = pd.read_csv('../data/basketballPlayoffs/teams_post.csv')"
   ]
  },
  {
   "cell_type": "markdown",
   "metadata": {},
   "source": [
    "### II.2 Maping the Categorical Variables"
   ]
  },
  {
   "cell_type": "code",
   "execution_count": 44,
   "metadata": {},
   "outputs": [],
   "source": [
    "map_teams = {\n",
    "    'ATL': 0, 'CHA': 1, 'CHI': 2, 'CLE': 3, 'CON': 4, \n",
    "    'DET': 5, 'HOU': 6, 'IND': 7, 'LAS': 8, 'MIA': 9, \n",
    "    'MIN': 10, 'NYL': 11, 'ORL': 12, 'PHO': 13, 'POR': 14, \n",
    "    'SAC': 15, 'SAS': 16, 'SEA': 17, 'UTA': 18, 'WAS': 19\n",
    "}\n",
    "\n",
    "map_teams_name = {\n",
    "    'Atlanta Dream': 0, 'Charlotte Sting': 1, 'Chicago Sky': 2, \n",
    "    'Cleveland Rockers': 3, 'Connecticut Sun': 4, 'Detroit Shock': 5, \n",
    "    'Houston Comets': 6, 'Indiana Fever': 7, 'Los Angeles Sparks': 8, \n",
    "    'Miami Sol': 9, 'Minnesota Lynx': 10, 'New York Liberty': 11, \n",
    "    'Orlando Miracle': 12, 'Phoenix Mercury': 13, 'Portland Fire': 14, \n",
    "    'Sacramento Monarchs': 15, 'San Antonio Silver Stars': 16, \n",
    "    'Seattle Storm': 17, 'Utah Starzz': 18, 'Washington Mystics': 19\n",
    "}\n",
    "\n",
    "map_arenas = {\n",
    "    'Philips Arena': 0, 'Charlotte Coliseum': 1, 'Time Warner Cable Arena': 2, \n",
    "    'UIC Pavilion': 3, 'Quicken Loans Arena': 4, 'Mohegan Sun Arena': 5, \n",
    "    'The Palace of Auburn Hills': 6, 'Compaq Center': 7, 'Toyota Center': 8, \n",
    "    'Conseco Fieldhouse': 9, 'Staples Center': 10, 'AmericanAirlines Arena': 11, \n",
    "    'Target Center': 12, 'Madison Square Garden (IV)': 13, 'Amway Arena': 14, \n",
    "    'US Airways Center': 15, 'Rose Garden Arena': 16, 'ARCO Arena (II)': 17, \n",
    "    'AT&T Center': 18, 'KeyArena at Seattle Center': 19, \n",
    "    'EnergySolutions Arena': 20, 'Verizon Center': 21\n",
    "}\n",
    "\n",
    "map_awards = {\n",
    "    'All-Star Game Most Valuable Player': 0,\n",
    "    'Coach of the Year': 1,\n",
    "    'Defensive Player of the Year': 2,\n",
    "    'Kim Perrot Sportsmanship Award': 3,\n",
    "    'Kim Perrot Sportsmanship': 3,\n",
    "    'Most Improved Player': 4,\n",
    "    'Most Valuable Player': 5,\n",
    "    'Rookie of the Year': 6,\n",
    "    'Sixth Woman of the Year': 7,\n",
    "    'WNBA Finals Most Valuable Player': 8,\n",
    "    'WNBA All-Decade Team': 9,\n",
    "    'WNBA All Decade Team Honorable Mention': 10\n",
    "}"
   ]
  },
  {
   "cell_type": "markdown",
   "metadata": {},
   "source": [
    "### II.3 Plot Functions\n",
    "Define plot functions to visualize the data."
   ]
  },
  {
   "cell_type": "code",
   "execution_count": 45,
   "metadata": {},
   "outputs": [],
   "source": [
    "def plot_missing_values(df, title):\n",
    "    missing_values = df.isnull().sum()\n",
    "    missing_values = missing_values[missing_values > 0]  \n",
    "    \n",
    "    if len(missing_values) > 0:\n",
    "        plt.figure(figsize=(10, 6))\n",
    "        missing_values.plot(kind='bar')\n",
    "        plt.title(f'Missing Values in {title}')\n",
    "        plt.ylabel('Number of Missing Values')\n",
    "        plt.xlabel('Columns')\n",
    "        plt.xticks(rotation=45)\n",
    "        plt.show()\n",
    "    else:\n",
    "        print(f'No missing values in {title}')"
   ]
  },
  {
   "cell_type": "markdown",
   "metadata": {},
   "source": [
    "### III.1 Players Data Preprocessing\n"
   ]
  },
  {
   "cell_type": "markdown",
   "metadata": {},
   "source": [
    "The Players dataset needs further preprocessing, including dealing with missing values, correcting invalid data, and converting player positions into numerical values."
   ]
  },
  {
   "cell_type": "code",
   "execution_count": 46,
   "metadata": {},
   "outputs": [],
   "source": [
    "players['birthDate'] = pd.to_datetime(players['birthDate'], errors='coerce')\n",
    "\n",
    "players['pos'] = players['pos'].replace({'G-C': 'C-G', 'F-G': 'G-F'})\n",
    "\n",
    "positions = players['pos'].unique()\n",
    "map_positions = {pos: i for i, pos in enumerate(positions)}\n",
    "\n",
    "players['pos'] = players['pos'].map(map_positions)"
   ]
  },
  {
   "cell_type": "markdown",
   "metadata": {},
   "source": [
    "Drop the columns that are not needed for the analysis."
   ]
  },
  {
   "cell_type": "code",
   "execution_count": 47,
   "metadata": {},
   "outputs": [],
   "source": [
    "players_cleaned = players[players['deathDate'] == '0000-00-00'].drop(columns=['deathDate','firstseason','lastseason'])"
   ]
  },
  {
   "cell_type": "markdown",
   "metadata": {},
   "source": [
    "Check for missing values in the datasets."
   ]
  },
  {
   "cell_type": "code",
   "execution_count": 48,
   "metadata": {},
   "outputs": [
    {
     "name": "stdout",
     "output_type": "stream",
     "text": [
      "\n",
      "Missing Values in Players:\n",
      "bioID             0\n",
      "pos               0\n",
      "height            0\n",
      "weight            0\n",
      "college         166\n",
      "collegeOther    878\n",
      "birthDate        84\n",
      "dtype: int64\n"
     ]
    }
   ],
   "source": [
    "print(\"\\nMissing Values in Players:\")\n",
    "print(players_cleaned.isnull().sum())"
   ]
  },
  {
   "cell_type": "code",
   "execution_count": 49,
   "metadata": {},
   "outputs": [
    {
     "data": {
      "image/png": "[encoded data removed]",
      "text/plain": [
       "<Figure size 1000x600 with 1 Axes>"
      ]
     },
     "metadata": {},
     "output_type": "display_data"
    }
   ],
   "source": [
    "plot_missing_values(players_cleaned, 'Players')"
   ]
  },
  {
   "cell_type": "markdown",
   "metadata": {},
   "source": [
    "Drop the columns with missing values"
   ]
  },
  {
   "cell_type": "code",
   "execution_count": 50,
   "metadata": {},
   "outputs": [
    {
     "name": "stdout",
     "output_type": "stream",
     "text": [
      "\n",
      "Players with no birthdate that are in the teams_players table:\n",
      "Empty DataFrame\n",
      "Columns: [bioID, pos, height, weight, college, birthDate]\n",
      "Index: []\n",
      "          bioID  pos  height  weight            college  birthDate\n",
      "0    abrahta01w    0    74.0     190  George Washington 1975-09-27\n",
      "1    abrossv01w    1    74.0     169        Connecticut 1980-07-09\n",
      "2    adairje01w    0    76.0     197  George Washington 1986-12-19\n",
      "3    adamsda01w    2    73.0     239          Texas A&M 1989-02-19\n",
      "4    adamsjo01w    0    75.0     180         New Mexico 1981-05-24\n",
      "..          ...  ...     ...     ...                ...        ...\n",
      "887   zarafr01w    4    70.0     146                NaN 1976-12-08\n",
      "888  zellosh01w    4    70.0     155         Pittsburgh 1986-08-28\n",
      "889  zhengha01w    0    80.0     254                NaN 1967-03-07\n",
      "891  zirkozu01w    4    69.0     145                NaN 1980-06-06\n",
      "892   zollsh01w    4    67.0     148           Virginia 1986-07-11\n",
      "\n",
      "[805 rows x 6 columns]\n",
      "bioID         0\n",
      "pos           0\n",
      "height        0\n",
      "weight        0\n",
      "college      89\n",
      "birthDate     0\n",
      "dtype: int64\n"
     ]
    }
   ],
   "source": [
    "players_cleaned = players_cleaned.drop(columns=['collegeOther'])\n",
    "\n",
    "#Some players that do not have birthdate seem to not appear in the teams_player table. Get those players and check if they exist in player_teams\n",
    "\n",
    "players_no_birthdate = players_cleaned[players_cleaned['birthDate'].isnull()]\n",
    "\n",
    "#Make the check in one table the key is playerID and in other is bioID\n",
    "\n",
    "players_no_birthdate_teams = players_no_birthdate[players_no_birthdate['bioID'].isin(players_teams['playerID'])]\n",
    "\n",
    "print(\"\\nPlayers with no birthdate that are in the teams_players table:\")\n",
    "\n",
    "print(players_no_birthdate_teams)\n",
    "\n",
    "# Since thare are no Players with null birthDate present in the player_teams table we can remove them\n",
    "\n",
    "indices_to_rem = players_no_birthdate.index\n",
    "\n",
    "players_cleaned = players_cleaned.drop(indices_to_rem)\n",
    "\n",
    "print(players_cleaned)\n",
    "\n"
   ]
  },
  {
   "cell_type": "markdown",
   "metadata": {},
   "source": [
    "### III.2 Coaches Data Preprocessing\n",
    "In the **Coaches** dataset, we apply a similar mapping to team IDs."
   ]
  },
  {
   "cell_type": "code",
   "execution_count": 51,
   "metadata": {},
   "outputs": [],
   "source": [
    "coaches['tmID'] = coaches['tmID'].map(map_teams)"
   ]
  },
  {
   "cell_type": "markdown",
   "metadata": {},
   "source": [
    "Drop the columns that are not needed for the analysis."
   ]
  },
  {
   "cell_type": "code",
   "execution_count": 52,
   "metadata": {},
   "outputs": [],
   "source": [
    "coaches_cleaned = coaches.drop(columns=['lgID'])"
   ]
  },
  {
   "cell_type": "markdown",
   "metadata": {},
   "source": [
    "Check for missing values in the datasets."
   ]
  },
  {
   "cell_type": "code",
   "execution_count": 53,
   "metadata": {},
   "outputs": [
    {
     "name": "stdout",
     "output_type": "stream",
     "text": [
      "\n",
      "Missing Values in Coaches:\n",
      "coachID        0\n",
      "year           0\n",
      "tmID           0\n",
      "stint          0\n",
      "won            0\n",
      "lost           0\n",
      "post_wins      0\n",
      "post_losses    0\n",
      "dtype: int64\n"
     ]
    }
   ],
   "source": [
    "print(\"\\nMissing Values in Coaches:\")\n",
    "print(coaches_cleaned.isnull().sum())"
   ]
  },
  {
   "cell_type": "markdown",
   "metadata": {},
   "source": [
    "### III.3 Teams Data Preprocessing\n",
    "\n",
    "In the **Teams** dataset, we will map some values (like team names and playoff outcomes) to numerical representations."
   ]
  },
  {
   "cell_type": "code",
   "execution_count": 54,
   "metadata": {},
   "outputs": [],
   "source": [
    "#pd.set_option('future.no_silent_downcasting', True)\n",
    "\n",
    "# Função para substituir valores\n",
    "def replace_values(df, column, old_values, new_values):\n",
    "    return df[column].replace(dict(zip(old_values, new_values)))\n",
    "\n",
    "# Aplicando as correções ao DataFrame 'teams'\n",
    "teams['firstRound'] = replace_values(teams, 'firstRound', ['L', 'W'], [0, 1])\n",
    "teams['semis'] = replace_values(teams, 'semis', ['L', 'W'], [0, 1])\n",
    "teams['finals'] = replace_values(teams, 'finals', ['L', 'W'], [0, 1])\n",
    "teams['playoff'] = replace_values(teams, 'playoff', ['N', 'Y'], [0, 1])\n",
    "teams['confID'] = replace_values(teams, 'confID', ['EA', 'WE'], [0, 1])\n",
    "teams['tmID'] = teams['tmID'].replace(map_teams)\n",
    "teams['franchID'] = teams['franchID'].replace(map_teams)\n",
    "teams['name'] = teams['name'].replace(map_teams_name)\n",
    "teams['arena'] = teams['arena'].replace(map_arenas)"
   ]
  },
  {
   "cell_type": "markdown",
   "metadata": {},
   "source": [
    "Drop the columns that are not needed for the analysis."
   ]
  },
  {
   "cell_type": "code",
   "execution_count": 55,
   "metadata": {},
   "outputs": [],
   "source": [
    "teams_cleaned = teams.drop(columns=['lgID'])"
   ]
  },
  {
   "cell_type": "markdown",
   "metadata": {},
   "source": [
    "Check for missing values in the datasets."
   ]
  },
  {
   "cell_type": "code",
   "execution_count": 56,
   "metadata": {},
   "outputs": [
    {
     "name": "stdout",
     "output_type": "stream",
     "text": [
      "\n",
      "Missing Values in Teams:\n",
      "year            0\n",
      "tmID            0\n",
      "franchID        0\n",
      "confID          0\n",
      "divID         142\n",
      "rank            0\n",
      "playoff         0\n",
      "seeded          0\n",
      "firstRound     62\n",
      "semis         104\n",
      "finals        122\n",
      "name            0\n",
      "o_fgm           0\n",
      "o_fga           0\n",
      "o_ftm           0\n",
      "o_fta           0\n",
      "o_3pm           0\n",
      "o_3pa           0\n",
      "o_oreb          0\n",
      "o_dreb          0\n",
      "o_reb           0\n",
      "o_asts          0\n",
      "o_pf            0\n",
      "o_stl           0\n",
      "o_to            0\n",
      "o_blk           0\n",
      "o_pts           0\n",
      "d_fgm           0\n",
      "d_fga           0\n",
      "d_ftm           0\n",
      "d_fta           0\n",
      "d_3pm           0\n",
      "d_3pa           0\n",
      "d_oreb          0\n",
      "d_dreb          0\n",
      "d_reb           0\n",
      "d_asts          0\n",
      "d_pf            0\n",
      "d_stl           0\n",
      "d_to            0\n",
      "d_blk           0\n",
      "d_pts           0\n",
      "tmORB           0\n",
      "tmDRB           0\n",
      "tmTRB           0\n",
      "opptmORB        0\n",
      "opptmDRB        0\n",
      "opptmTRB        0\n",
      "won             0\n",
      "lost            0\n",
      "GP              0\n",
      "homeW           0\n",
      "homeL           0\n",
      "awayW           0\n",
      "awayL           0\n",
      "confW           0\n",
      "confL           0\n",
      "min             0\n",
      "attend          0\n",
      "arena           0\n",
      "dtype: int64\n"
     ]
    }
   ],
   "source": [
    "print(\"\\nMissing Values in Teams:\")\n",
    "print(teams_cleaned.isnull().sum())"
   ]
  },
  {
   "cell_type": "code",
   "execution_count": 57,
   "metadata": {},
   "outputs": [
    {
     "data": {
      "image/png": "[encoded data removed]",
      "text/plain": [
       "<Figure size 1000x600 with 1 Axes>"
      ]
     },
     "metadata": {},
     "output_type": "display_data"
    }
   ],
   "source": [
    "plot_missing_values(teams_cleaned, 'Teams')\n"
   ]
  },
  {
   "cell_type": "markdown",
   "metadata": {},
   "source": [
    "Drop the columns with missing values"
   ]
  },
  {
   "cell_type": "code",
   "execution_count": 58,
   "metadata": {},
   "outputs": [],
   "source": [
    "teams_cleaned.drop(columns=['franchID','divID'])\n",
    "\n",
    "#Assuming that the missing values in firstRound, semis and finals represent that the team didn't reach that stage we will replace all the missing values by the number 2\n",
    "teams_cleaned['firstRound'] = teams_cleaned['firstRound'].fillna(2)\n",
    "teams_cleaned['semis'] = teams_cleaned['semis'].fillna(2)\n",
    "teams_cleaned['finals'] = teams_cleaned['finals'].fillna(2)"
   ]
  },
  {
   "cell_type": "markdown",
   "metadata": {},
   "source": [
    "### III.4 Players Teams Data Preprocessing\n",
    "\n",
    "In the **Players Teams** dataset, we will map some values (like team names) to numerical representations."
   ]
  },
  {
   "cell_type": "code",
   "execution_count": 59,
   "metadata": {},
   "outputs": [],
   "source": [
    "players_teams['tmID'] = players_teams['tmID'].map(map_teams)"
   ]
  },
  {
   "cell_type": "markdown",
   "metadata": {},
   "source": [
    "Drop the columns that are not needed for the analysis."
   ]
  },
  {
   "cell_type": "code",
   "execution_count": 60,
   "metadata": {},
   "outputs": [],
   "source": [
    "players_teams_cleaned = players_teams.drop(columns=['lgID'])"
   ]
  },
  {
   "cell_type": "markdown",
   "metadata": {},
   "source": [
    "Check for missing values in the datasets."
   ]
  },
  {
   "cell_type": "code",
   "execution_count": 61,
   "metadata": {},
   "outputs": [
    {
     "name": "stdout",
     "output_type": "stream",
     "text": [
      "\n",
      "Missing Values in Players Teams:\n",
      "playerID              0\n",
      "year                  0\n",
      "stint                 0\n",
      "tmID                  0\n",
      "GP                    0\n",
      "GS                    0\n",
      "minutes               0\n",
      "points                0\n",
      "oRebounds             0\n",
      "dRebounds             0\n",
      "rebounds              0\n",
      "assists               0\n",
      "steals                0\n",
      "blocks                0\n",
      "turnovers             0\n",
      "PF                    0\n",
      "fgAttempted           0\n",
      "fgMade                0\n",
      "ftAttempted           0\n",
      "ftMade                0\n",
      "threeAttempted        0\n",
      "threeMade             0\n",
      "dq                    0\n",
      "PostGP                0\n",
      "PostGS                0\n",
      "PostMinutes           0\n",
      "PostPoints            0\n",
      "PostoRebounds         0\n",
      "PostdRebounds         0\n",
      "PostRebounds          0\n",
      "PostAssists           0\n",
      "PostSteals            0\n",
      "PostBlocks            0\n",
      "PostTurnovers         0\n",
      "PostPF                0\n",
      "PostfgAttempted       0\n",
      "PostfgMade            0\n",
      "PostftAttempted       0\n",
      "PostftMade            0\n",
      "PostthreeAttempted    0\n",
      "PostthreeMade         0\n",
      "PostDQ                0\n",
      "dtype: int64\n"
     ]
    }
   ],
   "source": [
    "print(\"\\nMissing Values in Players Teams:\")\n",
    "print(players_teams_cleaned.isnull().sum())"
   ]
  },
  {
   "cell_type": "markdown",
   "metadata": {},
   "source": [
    "### III.5 Player Awards Data Preprocessing\n",
    "\n",
    "In the **Awards Players** dataset, we will map some values (like team names) to numerical representations."
   ]
  },
  {
   "cell_type": "code",
   "execution_count": 62,
   "metadata": {},
   "outputs": [],
   "source": [
    "awards_players['award'].replace(map_awards, inplace=True)"
   ]
  },
  {
   "cell_type": "markdown",
   "metadata": {},
   "source": [
    "Drop the columns that are not needed for the analysis."
   ]
  },
  {
   "cell_type": "code",
   "execution_count": 63,
   "metadata": {},
   "outputs": [],
   "source": [
    "awards_players_cleaned = awards_players.drop(columns=['lgID'])"
   ]
  },
  {
   "cell_type": "markdown",
   "metadata": {},
   "source": [
    "Check for missing values in the dataset."
   ]
  },
  {
   "cell_type": "code",
   "execution_count": 64,
   "metadata": {},
   "outputs": [
    {
     "name": "stdout",
     "output_type": "stream",
     "text": [
      "Missing Values in Awards Players:\n",
      "playerID    0\n",
      "award       0\n",
      "year        0\n",
      "dtype: int64\n"
     ]
    }
   ],
   "source": [
    "print(\"Missing Values in Awards Players:\")\n",
    "print(awards_players_cleaned.isnull().sum())"
   ]
  },
  {
   "cell_type": "markdown",
   "metadata": {},
   "source": [
    "### III.6 Series Post Data Preprocessing\n",
    "In the **Series Post** dataset, we will map some values (like playoff outcomes) to numerical representations."
   ]
  },
  {
   "cell_type": "code",
   "execution_count": 65,
   "metadata": {},
   "outputs": [],
   "source": [
    "series_post['tmIDWinner'] = series_post['tmIDWinner'].map(map_teams)\n",
    "series_post['tmIDLoser'] = series_post['tmIDLoser'].map(map_teams)"
   ]
  },
  {
   "cell_type": "markdown",
   "metadata": {},
   "source": [
    "Drop the columns that are not needed for the analysis."
   ]
  },
  {
   "cell_type": "code",
   "execution_count": 66,
   "metadata": {},
   "outputs": [],
   "source": [
    "series_post_cleaned = series_post.drop(columns=['lgIDWinner','lgIDLoser'])"
   ]
  },
  {
   "cell_type": "markdown",
   "metadata": {},
   "source": [
    "Check for missing values in the datasets."
   ]
  },
  {
   "cell_type": "code",
   "execution_count": 67,
   "metadata": {},
   "outputs": [
    {
     "name": "stdout",
     "output_type": "stream",
     "text": [
      "\n",
      "Missing Values in Series Post:\n",
      "year          0\n",
      "round         0\n",
      "series        0\n",
      "tmIDWinner    0\n",
      "tmIDLoser     0\n",
      "W             0\n",
      "L             0\n",
      "dtype: int64\n"
     ]
    }
   ],
   "source": [
    "print(\"\\nMissing Values in Series Post:\")\n",
    "print(series_post_cleaned.isnull().sum())"
   ]
  },
  {
   "cell_type": "markdown",
   "metadata": {},
   "source": [
    "### III.7 Teams Post Data Preprocessing\n",
    "In the **Teams Post** dataset, we will map some values (like playoff outcomes) to numerical representations."
   ]
  },
  {
   "cell_type": "code",
   "execution_count": 68,
   "metadata": {},
   "outputs": [],
   "source": [
    "teams_post['tmID'] = teams_post['tmID'].map(map_teams)"
   ]
  },
  {
   "cell_type": "markdown",
   "metadata": {},
   "source": [
    "Drop the columns that are not needed for the analysis."
   ]
  },
  {
   "cell_type": "code",
   "execution_count": 69,
   "metadata": {},
   "outputs": [],
   "source": [
    "teams_post_cleaned = teams_post.drop(columns=['lgID'])"
   ]
  },
  {
   "cell_type": "markdown",
   "metadata": {},
   "source": [
    "Check for missing values in the datasets."
   ]
  },
  {
   "cell_type": "code",
   "execution_count": 70,
   "metadata": {},
   "outputs": [
    {
     "name": "stdout",
     "output_type": "stream",
     "text": [
      "\n",
      "Missing Values in Teams Post:\n",
      "year    0\n",
      "tmID    0\n",
      "W       0\n",
      "L       0\n",
      "dtype: int64\n"
     ]
    }
   ],
   "source": [
    "print(\"\\nMissing Values in Teams Post:\")\n",
    "print(teams_post_cleaned.isnull().sum())"
   ]
  },
  {
   "cell_type": "markdown",
   "metadata": {},
   "source": [
    "### Creating Output Directory"
   ]
  },
  {
   "cell_type": "code",
   "execution_count": 71,
   "metadata": {},
   "outputs": [],
   "source": [
    "os.makedirs('../data/basketballPlayoffs_cleaned', exist_ok=True)"
   ]
  },
  {
   "cell_type": "markdown",
   "metadata": {},
   "source": [
    "### Exporting Cleaned DataFrames to new CSV files"
   ]
  },
  {
   "cell_type": "code",
   "execution_count": 72,
   "metadata": {},
   "outputs": [],
   "source": [
    "awards_players_cleaned.to_csv('../data/basketballPlayoffs_cleaned/awards_players_cleaned.csv', index=False)\n",
    "coaches_cleaned.to_csv('../data/basketballPlayoffs_cleaned/coaches_cleaned.csv', index=False)\n",
    "players_teams_cleaned.to_csv('../data/basketballPlayoffs_cleaned/players_teams_cleaned.csv', index=False)\n",
    "players_cleaned.to_csv('../data/basketballPlayoffs_cleaned/players_cleaned.csv', index=False)\n",
    "series_post_cleaned.to_csv('../data/basketballPlayoffs_cleaned/series_post_cleaned.csv', index=False)\n",
    "teams_post_cleaned.to_csv('../data/basketballPlayoffs_cleaned/teams_post_cleaned.csv', index=False)\n",
    "teams_cleaned.to_csv('../data/basketballPlayoffs_cleaned/teams_cleaned.csv', index=False)"
   ]
  }
 ],
 "metadata": {
  "kernelspec": {
   "display_name": "base",
   "language": "python",
   "name": "python3"
  },
  "language_info": {
   "codemirror_mode": {
    "name": "ipython",
    "version": 3
   },
   "file_extension": ".py",
   "mimetype": "text/x-python",
   "name": "python",
   "nbconvert_exporter": "python",
   "pygments_lexer": "ipython3",
   "version": "3.10.9"
  }
 },
 "nbformat": 4,
 "nbformat_minor": 2
}
