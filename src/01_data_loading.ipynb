{
 "cells": [
  {
   "cell_type": "markdown",
   "metadata": {},
   "source": [
    "# Basketball Playoffs Qualification\n",
    "\n",
    "![Descriptive Image Alt Text](../data/basketballPlayoffs/wnba.jpg)"
   ]
  },
  {
   "cell_type": "markdown",
   "metadata": {},
   "source": [
    "## Case Description\n",
    "\n",
    "The WNBA is composed by two conferences, the Eastern and Western conference. During the season, 12 teams (6 from the western and 6 from the eastern conference) play with each other, and try to win as many games as possible. Then is created a new classification, that gatters all 12 teams, and the best 8 teams (4 from the western and 4 from the eastern conference), qualify for the playoffs."
   ]
  },
  {
   "cell_type": "markdown",
   "metadata": {},
   "source": [
    "### Objectives\n",
    "\n",
    "Our main objetive is to use a predictive model to predict which WNBA teams will be making the Playoffs next season, by analysing data from 10 years ago until today. There are many factors to analyse, such as award players received along the years, coaches and their performances in various teams, player performance along the years and team performances along the years.\n",
    "\n",
    "### About the dataset\n",
    "\n",
    "The dataset contains data from the last 10 seasons:\n",
    "\n",
    "- **awards_players.csv**: individual player awards, directly related to players performances during 10 last seasons.\n",
    "- **coaches.csv**: statistics for team coaches, such as year, coaching team, coaching league (always WBNA in this case), stint, games won and lost,post wins and post losses.\n",
    "- **players_teams.csv**: most complete player data, with for example points, rebounds, assists etc. \n",
    "- **players.csv**: more general player data, such as position of the field, first and lastseason, height, weight, college, birth date, death date (if applies).\n",
    "- **series_post.csv**: includes results from the Playoffs, such as team wins and loses. \n",
    "- **teams_post.csv**: post season performance data. \n",
    "- **teams.csv**: general information about team performances during regular season, such as wins, loses, and playoff appearances. \n",
    "\n",
    "#### Dataset Atrributes\n",
    "\n",
    "##### Offensive Statistics:\n",
    "- **o_fgm**: Field goals made by the team\n",
    "- **o_fga**: Field goals attempted by the team\n",
    "- **o_ftm**: Free throws made by the team\n",
    "- **o_fta**: Free throws attempted by the team\n",
    "- **o_3pm**: Three-pointers made by the team\n",
    "- **o_3pa**: Three-pointers attempted by the team\n",
    "- **o_oreb**: Offensive rebounds by the team\n",
    "- **o_dreb**: Defensive rebounds by the team\n",
    "- **o_reb**: Total rebounds by the team\n",
    "- **o_asts**: Assists made by the team\n",
    "- **o_pf**: Personal fouls committed by the team\n",
    "- **o_stl**: Steals made by the team\n",
    "- **o_to**: Turnovers by the team\n",
    "- **o_blk**: Blocks made by the team\n",
    "- **o_pts**: Total points scored by the team\n",
    "\n",
    "##### Defensive Statistics:\n",
    "- **d_fgm**: Field goals made by opponents\n",
    "- **d_fga**: Field goals attempted by opponents\n",
    "- **d_ftm**: Free throws made by opponents\n",
    "- **d_fta**: Free throws attempted by opponents\n",
    "- **d_3pm**: Three-pointers made by opponents\n",
    "- **d_3pa**: Three-pointers attempted by opponents\n",
    "- **d_oreb**: Offensive rebounds by opponents\n",
    "- **d_dreb**: Defensive rebounds by opponents\n",
    "- **d_reb**: Total rebounds by opponents\n",
    "- **d_asts**: Assists made by opponents\n",
    "- **d_pf**: Personal fouls committed by opponents\n",
    "- **d_stl**: Steals made by opponents\n",
    "- **d_to**: Turnovers by opponents\n",
    "- **d_blk**: Blocks made by opponents\n",
    "- **d_pts**: Total points scored by opponents\n",
    "\n",
    "##### Team Rebounding:\n",
    "- **tmORB**: Team offensive rebounds\n",
    "- **tmDRB**: Team defensive rebounds\n",
    "- **tmTRB**: Team total rebounds\n",
    "\n",
    "##### Opponent Team Rebounding:\n",
    "- **opptmORB**: Opponent team offensive rebounds\n",
    "- **opptmDRB**: Opponent team defensive rebounds\n",
    "- **opptmTRB**: Opponent team total rebounds\n",
    "\n",
    "##### Season Performance:\n",
    "- **won**: Games won by the team during the season\n",
    "- **lost**: Games lost by the team during the season\n",
    "- **GP**: Games played by the team during the season\n",
    "- **homeW**: Home games won by the team\n",
    "- **homeL**: Home games lost by the team\n",
    "- **awayW**: Away games won by the team\n",
    "- **awayL**: Away games lost by the team\n",
    "- **confW**: Conference games won by the team\n",
    "- **confL**: Conference games lost by the team\n"
   ]
  },
  {
   "cell_type": "markdown",
   "metadata": {},
   "source": [
    "## I - Data Preparation\n",
    "\n",
    "### I.1 - Import Libraries"
   ]
  },
  {
   "cell_type": "markdown",
   "metadata": {},
   "source": [
    "Here's a list of commonly used libraries:\n",
    "\n",
    "- `pandas`: for data manipulation and analysis.\n",
    "- `numpy`: for numerical computing.\n",
    "- `matplotlib.pyplot`: for creating static, interactive, and animated visualizations.\n",
    "- `seaborn`: for making statistical graphics.\n",
    "- `os`: for interacting with the operating system, including file and directory management."
   ]
  },
  {
   "cell_type": "code",
   "execution_count": null,
   "metadata": {},
   "outputs": [],
   "source": [
    "import pandas as pd\n",
    "import numpy as np\n",
    "import matplotlib.pyplot as plt\n",
    "import seaborn as sns\n",
    "import os"
   ]
  },
  {
   "cell_type": "markdown",
   "metadata": {},
   "source": [
    "### I.2 - Read Data"
   ]
  },
  {
   "cell_type": "code",
   "execution_count": null,
   "metadata": {},
   "outputs": [],
   "source": [
    "awards_players = pd.read_csv('../data/basketballPlayoffs/awards_players.csv')\n",
    "coaches = pd.read_csv('../data/basketballPlayoffs/coaches.csv')\n",
    "players = pd.read_csv('../data/basketballPlayoffs/players.csv')\n",
    "players_teams = pd.read_csv('../data/basketballPlayoffs/players_teams.csv')\n",
    "series_post = pd.read_csv('../data/basketballPlayoffs/series_post.csv')\n",
    "teams = pd.read_csv('../data/basketballPlayoffs/teams.csv')\n",
    "teams_post = pd.read_csv('../data/basketballPlayoffs/teams_post.csv')"
   ]
  },
  {
   "cell_type": "code",
   "execution_count": null,
   "metadata": {},
   "outputs": [],
   "source": [
    "print(\"Awards Players:\")\n",
    "print(awards_players.head(), \"\\n\")\n",
    "\n",
    "print(\"Coaches:\")\n",
    "print(coaches.head(), \"\\n\")\n",
    "\n",
    "print(\"Players:\")\n",
    "print(players.head(), \"\\n\")\n",
    "\n",
    "print(\"Players Teams:\")\n",
    "print(players_teams.head(), \"\\n\")\n",
    "\n",
    "print(\"Series Post:\")\n",
    "print(series_post.head(), \"\\n\")\n",
    "\n",
    "print(\"Teams:\")\n",
    "print(teams.head(), \"\\n\")\n",
    "\n",
    "print(\"Teams Post:\")\n",
    "print(teams_post.head(), \"\\n\")"
   ]
  }
 ],
 "metadata": {
  "kernelspec": {
   "display_name": "Python 3",
   "language": "python",
   "name": "python3"
  },
  "language_info": {
   "name": "python",
   "version": "3.9.6"
  }
 },
 "nbformat": 4,
 "nbformat_minor": 2
}
