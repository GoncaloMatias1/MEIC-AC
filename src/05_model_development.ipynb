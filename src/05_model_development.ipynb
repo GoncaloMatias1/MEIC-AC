{
 "cells": [
  {
   "cell_type": "markdown",
   "metadata": {},
   "source": [
    "# Imports"
   ]
  },
  {
   "cell_type": "code",
   "execution_count": 128,
   "metadata": {},
   "outputs": [],
   "source": [
    "import pandas as pd\n",
    "import numpy as np\n",
    "import matplotlib.pyplot as plt\n",
    "import seaborn as sns\n",
    "import os\n",
    "\n",
    "awards_players_cleaned = pd.read_csv('../data/basketballPlayoffs_cleaned/awards_players_cleaned.csv')\n",
    "coaches_cleaned = pd.read_csv('../data/basketballPlayoffs_cleaned/coaches_cleaned.csv')\n",
    "players_cleaned = pd.read_csv('../data/basketballPlayoffs_cleaned/players_cleaned.csv')\n",
    "players_teams_cleaned = pd.read_csv('../data/basketballPlayoffs_cleaned/players_teams_cleaned.csv')\n",
    "series_post_cleaned = pd.read_csv('../data/basketballPlayoffs_cleaned/series_post_cleaned.csv')\n",
    "teams_cleaned = pd.read_csv('../data/basketballPlayoffs_cleaned/teams_cleaned.csv')\n",
    "teams_post_cleaned = pd.read_csv('../data/basketballPlayoffs_cleaned/teams_post_cleaned.csv')"
   ]
  },
  {
   "cell_type": "markdown",
   "metadata": {},
   "source": [
    "# Obtain data from only 9 years"
   ]
  },
  {
   "cell_type": "code",
   "execution_count": 129,
   "metadata": {},
   "outputs": [],
   "source": [
    "awards_players_model = awards_players_cleaned[awards_players_cleaned['year'] != 10]\n",
    "coaches_model = coaches_cleaned[coaches_cleaned['year'] != 10]\n",
    "players_teams_model = players_teams_cleaned[players_teams_cleaned['year'] != 10]\n",
    "series_post_model = series_post_cleaned[series_post_cleaned['year'] != 10]\n",
    "teams_model = teams_cleaned[teams_cleaned['year'] != 10]\n",
    "teams_post_model = teams_post_cleaned[teams_post_cleaned['year'] != 10]\n",
    "\n",
    "os.makedirs('../data/basketballPlayoffs_model', exist_ok=True)\n",
    "\n",
    "awards_players_model.to_csv('../data/basketballPlayoffs_model/awards_players_model.csv', index=False)\n",
    "coaches_model.to_csv('../data/basketballPlayoffs_model/coaches_model.csv', index=False)\n",
    "players_cleaned.to_csv('../data/basketballPlayoffs_model/players_model.csv', index=False)\n",
    "players_teams_model.to_csv('../data/basketballPlayoffs_model/players_teams_model.csv', index=False)\n",
    "series_post_model.to_csv('../data/basketballPlayoffs_model/series_post_model.csv', index=False)\n",
    "teams_model.to_csv('../data/basketballPlayoffs_model/teams_model.csv', index=False)\n",
    "teams_post_model.to_csv('../data/basketballPlayoffs_model/teams_post_model.csv', index=False)"
   ]
  },
  {
   "cell_type": "markdown",
   "metadata": {},
   "source": [
    "# Overalls from only 9 years"
   ]
  },
  {
   "cell_type": "code",
   "execution_count": 130,
   "metadata": {},
   "outputs": [],
   "source": [
    "players_overall_avg = players_teams_model.groupby('playerID')['OVERALL'].mean().reset_index()\n",
    "\n",
    "players_overall_avg.rename(columns={'OVERALL': 'OVERALL_ALL_TIME'}, inplace=True)\n",
    "\n",
    "players_overall_avg['OVERALL_ALL_TIME'] = players_overall_avg['OVERALL_ALL_TIME'].round(1)\n",
    "\n",
    "players_overall_avg.to_csv('../data/basketballPlayoffs_model/players_overall_all_time_model.csv', index=False)"
   ]
  },
  {
   "cell_type": "code",
   "execution_count": 131,
   "metadata": {},
   "outputs": [],
   "source": [
    "rookie_players = players_teams_model[players_teams_model['is_rookie'] == 1]\n",
    "\n",
    "rookie_overall_avg = rookie_players['OVERALL'].mean().round(1)\n",
    "\n",
    "rookie_overall_avg_df = pd.DataFrame({'rookie_overall_avg': [rookie_overall_avg]})\n",
    "\n",
    "rookie_overall_avg_df.to_csv('../data/basketballPlayoffs_model/rookie_overall_avg_model.csv', index=False)"
   ]
  },
  {
   "cell_type": "code",
   "execution_count": 132,
   "metadata": {},
   "outputs": [],
   "source": [
    "rookie_coaches = coaches_model[coaches_model['is_rookie'] == 1]\n",
    "\n",
    "rookie_overall_coaches_avg = rookie_coaches['OVERALL'].mean().round(1)\n",
    "\n",
    "rookie_overall_coaches_avg_df = pd.DataFrame({'rookie_overall_coaches_avg': [rookie_overall_coaches_avg]})\n",
    "\n",
    "rookie_overall_coaches_avg_df.to_csv('../data/basketballPlayoffs_model/rookie_overall_coaches_avg_model.csv', index=False)"
   ]
  },
  {
   "cell_type": "code",
   "execution_count": 133,
   "metadata": {},
   "outputs": [],
   "source": [
    "coaches_overall_avg = coaches_model.groupby('coachID')['OVERALL'].mean().reset_index()\n",
    "\n",
    "coaches_overall_avg.rename(columns={'OVERALL': 'OVERALL_ALL_TIME'}, inplace=True)\n",
    "\n",
    "coaches_overall_avg['OVERALL_ALL_TIME'] = coaches_overall_avg['OVERALL_ALL_TIME'].round(1)\n",
    "\n",
    "coaches_overall_avg.to_csv('../data/basketballPlayoffs_model/coaches_overall_all_time_model.csv', index=False)"
   ]
  },
  {
   "cell_type": "markdown",
   "metadata": {},
   "source": [
    "# Obtain ranks from the 10th year to compare"
   ]
  },
  {
   "cell_type": "code",
   "execution_count": 134,
   "metadata": {},
   "outputs": [],
   "source": [
    "playoffs_10th_year = teams_cleaned[teams_cleaned['year'] == 10][['tmID', 'playoff']]\n",
    "\n",
    "playoffs_10th_year.to_csv('../data/basketballPlayoffs_model/playoffs_10th_year.csv', index=False)"
   ]
  },
  {
   "cell_type": "markdown",
   "metadata": {},
   "source": [
    "# Obtain teams line up and coach from the 10th year"
   ]
  },
  {
   "cell_type": "code",
   "execution_count": 135,
   "metadata": {},
   "outputs": [],
   "source": [
    "coaches_model_10th_year = coaches_cleaned[coaches_cleaned['year'] == 10][['coachID', 'tmID',]]\n",
    "\n",
    "coaches_model_10th_year.to_csv('../data/basketballPlayoffs_model/coaches_model_10th_year.csv', index=False)"
   ]
  },
  {
   "cell_type": "code",
   "execution_count": 136,
   "metadata": {},
   "outputs": [],
   "source": [
    "players_model_10th_year = players_teams_cleaned[players_teams_cleaned['year'] == 10][['playerID','tmID']]\n",
    "\n",
    "players_model_10th_year = players_model_10th_year.sort_values(by='tmID')\n",
    "\n",
    "players_model_10th_year.to_csv('../data/basketballPlayoffs_model/players_model_10th_year.csv', index=False)"
   ]
  },
  {
   "cell_type": "markdown",
   "metadata": {},
   "source": [
    "# Add overalls calculated from 9 years to the 10th year players and coach"
   ]
  },
  {
   "cell_type": "code",
   "execution_count": 137,
   "metadata": {},
   "outputs": [],
   "source": [
    "players_model_10th_year = pd.read_csv('../data/basketballPlayoffs_model/players_model_10th_year.csv')\n",
    "players_overall_all_time_model = pd.read_csv('../data/basketballPlayoffs_model/players_overall_all_time_model.csv')\n",
    "\n",
    "rookie_avg = 5.6 \n",
    "\n",
    "players_model_10th_year = players_model_10th_year.merge(\n",
    "    players_overall_all_time_model[['playerID', 'OVERALL_ALL_TIME']],\n",
    "    on='playerID',\n",
    "    how='left'\n",
    ").fillna({'OVERALL_ALL_TIME': rookie_avg})\n",
    "\n",
    "players_model_10th_year.rename(columns={'OVERALL_ALL_TIME': 'OVERALL'}, inplace=True)\n",
    "\n",
    "players_model_10th_year.to_csv('../data/basketballPlayoffs_model/players_model_10th_year.csv', index=False)"
   ]
  },
  {
   "cell_type": "code",
   "execution_count": 138,
   "metadata": {},
   "outputs": [],
   "source": [
    "coaches_model_10th_year = pd.read_csv('../data/basketballPlayoffs_model/coaches_model_10th_year.csv')\n",
    "coaches_overall_all_time_model = pd.read_csv('../data/basketballPlayoffs_model/coaches_overall_all_time_model.csv')\n",
    "\n",
    "rookie_avg_coach = 8.9 \n",
    "\n",
    "coaches_model_10th_year = coaches_model_10th_year.merge(\n",
    "    coaches_overall_all_time_model[['coachID', 'OVERALL_ALL_TIME']],\n",
    "    on='coachID',\n",
    "    how='left'\n",
    ").fillna({'OVERALL_ALL_TIME': rookie_avg_coach})\n",
    "\n",
    "coaches_model_10th_year.rename(columns={'OVERALL_ALL_TIME': 'OVERALL'}, inplace=True)\n",
    "\n",
    "coaches_model_10th_year.to_csv('../data/basketballPlayoffs_model/coaches_model_10th_year.csv', index=False)\n"
   ]
  },
  {
   "cell_type": "markdown",
   "metadata": {},
   "source": [
    "# Given the teams players composition and their respective overalls calculate the team overall (mean of all players)"
   ]
  },
  {
   "cell_type": "code",
   "execution_count": 139,
   "metadata": {},
   "outputs": [],
   "source": [
    "players_model_10th_year = pd.read_csv('../data/basketballPlayoffs_model/players_model_10th_year.csv')\n",
    "\n",
    "team_overall = players_model_10th_year.groupby('tmID')['OVERALL'].mean().reset_index()\n",
    "\n",
    "team_overall['overall_team'] = team_overall['OVERALL'].round(1)\n",
    "\n",
    "team_overall = team_overall.drop(columns=['OVERALL'])\n",
    "\n",
    "team_overall.to_csv('../data/basketballPlayoffs_model/team_overall.csv', index=False)"
   ]
  },
  {
   "cell_type": "markdown",
   "metadata": {},
   "source": [
    "# Given the team coaches and their respective overalls calculate the coach overall (mean of all coaches(1 or more then 1))"
   ]
  },
  {
   "cell_type": "code",
   "execution_count": 140,
   "metadata": {},
   "outputs": [],
   "source": [
    "coaches_model_10th_year = pd.read_csv('../data/basketballPlayoffs_model/coaches_model_10th_year.csv')\n",
    "\n",
    "team_overall_coaches = coaches_model_10th_year.groupby('tmID')['OVERALL'].mean().reset_index()\n",
    "\n",
    "team_overall_coaches['overall_team_coach'] = team_overall_coaches['OVERALL'].round(1)\n",
    "\n",
    "team_overall_coaches = team_overall_coaches.drop(columns=['OVERALL'])\n",
    "\n",
    "team_overall_coaches.to_csv('../data/basketballPlayoffs_model/team_overall_coaches.csv', index=False)"
   ]
  },
  {
   "cell_type": "markdown",
   "metadata": {},
   "source": [
    "# Create team final overall ( 70% team + 30% coach)"
   ]
  },
  {
   "cell_type": "code",
   "execution_count": 141,
   "metadata": {},
   "outputs": [],
   "source": [
    "team_overall = pd.read_csv('../data/basketballPlayoffs_model/team_overall.csv')\n",
    "team_overall_coach = pd.read_csv('../data/basketballPlayoffs_model/team_overall_coaches.csv')\n",
    "teams_model = pd.read_csv('../data/basketballPlayoffs_model/teams_model.csv')\n",
    "\n",
    "merged_df = pd.merge(team_overall, team_overall_coach, on='tmID')\n",
    "\n",
    "merged_df['overall_team_final'] = (merged_df['overall_team'] * 0.9) + (merged_df['overall_team_coach'] * 0.1)\n",
    "merged_df['overall_team_final'] = merged_df['overall_team_final'].round(2)\n",
    "\n",
    "merged_df = pd.merge(merged_df, teams_model[['tmID', 'confID']], on='tmID', how='left')\n",
    "\n",
    "final_df = merged_df[['tmID', 'confID', 'overall_team_final']]\n",
    "\n",
    "final_df = final_df.drop_duplicates(subset='tmID')\n",
    "\n",
    "final_df = final_df.sort_values(by='overall_team_final', ascending=True)\n",
    "\n",
    "final_df.to_csv('../data/basketballPlayoffs_model/team_final_overall.csv', index=False)"
   ]
  },
  {
   "cell_type": "markdown",
   "metadata": {},
   "source": [
    "# Accuracy"
   ]
  },
  {
   "cell_type": "code",
   "execution_count": 142,
   "metadata": {},
   "outputs": [
    {
     "name": "stdout",
     "output_type": "stream",
     "text": [
      "Teams that go to the playoffs acording to the previsions:\n",
      "\n",
      "    tmID  confID  overall_team_final\n",
      "12     8       1               11.17\n",
      "11    16       1                9.13\n",
      "10     5       0                8.95\n",
      "9     13       1                8.68\n",
      "8     17       1                8.54\n",
      "5     11       0                8.28\n",
      "4      7       0                8.21\n",
      "3     19       0                8.18\n",
      "\n",
      "Teams that are in the playoffs and in the previsions:\n",
      "\n",
      "   tmID  confID  overall_team_final  playoff\n",
      "0     8       1               11.17        1\n",
      "1    16       1                9.13        1\n",
      "2     5       0                8.95        1\n",
      "3    13       1                8.68        1\n",
      "4    17       1                8.54        1\n",
      "6     7       0                8.21        1\n",
      "7    19       0                8.18        1\n",
      "\n",
      "The accuracy is 87.50%\n"
     ]
    }
   ],
   "source": [
    "team_final_overall = pd.read_csv('../data/basketballPlayoffs_model/team_final_overall.csv')\n",
    "playoffs_10th_year = pd.read_csv('../data/basketballPlayoffs_model/playoffs_10th_year.csv')\n",
    "\n",
    "top_teams_by_conf = team_final_overall.sort_values(by='overall_team_final', ascending=False).groupby('confID').head(4)\n",
    "\n",
    "print(\"Teams that go to the playoffs acording to the previsions:\\n\")\n",
    "print(top_teams_by_conf)\n",
    "\n",
    "comparison = top_teams_by_conf.merge(playoffs_10th_year, on='tmID', how='left')\n",
    "\n",
    "correct_predictions = comparison[comparison['playoff'] == 1]\n",
    "\n",
    "print(\"\\nTeams that are in the playoffs and in the previsions:\\n\")\n",
    "print(correct_predictions)\n",
    "\n",
    "accuracy = len(correct_predictions) / len(top_teams_by_conf) * 100\n",
    "print(f\"\\nThe accuracy is {accuracy:.2f}%\")\n"
   ]
  },
  {
   "cell_type": "markdown",
   "metadata": {},
   "source": [
    "## SVM MODEL"
   ]
  },
  {
   "cell_type": "code",
   "execution_count": 143,
   "metadata": {},
   "outputs": [],
   "source": [
    "from sklearn.svm import SVC\n",
    "from sklearn.decomposition import PCA\n",
    "from sklearn.metrics import accuracy_score, classification_report\n",
    "from sklearn.impute import SimpleImputer\n",
    "from sklearn.preprocessing import StandardScaler\n",
    "from sklearn.model_selection import train_test_split\n",
    "import pandas as pd\n",
    "import numpy as np\n",
    "import matplotlib.pyplot as plt\n",
    "5\n",
    "\n",
    "FEATURES = ['o_pts', 'd_pts', 'won', 'lost', 'homeW', 'homeL', \n",
    "            'awayW', 'awayL', 'confW', 'confL', 'tmORB', 'tmDRB', 'tmTRB',\n",
    "            'overall_team', 'overall_team_coach', 'overall_team_final']"
   ]
  },
  {
   "cell_type": "markdown",
   "metadata": {},
   "source": [
    "## Data Preparation:\n",
    "\n",
    "Merges multiple datasets containing team stats and coach ratings into one dataset, selects relevant features (X) for prediction, and the target variable (y). It also imputes missing feature values with the mean."
   ]
  },
  {
   "cell_type": "code",
   "execution_count": 144,
   "metadata": {},
   "outputs": [],
   "source": [
    "def prepare_data(teams_model, team_final_overall, team_overall, team_overall_coaches):\n",
    "    merged_data = teams_model.merge(team_final_overall[['tmID', 'overall_team_final']], \n",
    "                                    on='tmID', \n",
    "                                    how='left')\n",
    "    merged_data = merged_data.merge(team_overall[['tmID', 'overall_team']], \n",
    "                                    on='tmID', \n",
    "                                    how='left')\n",
    "    merged_data = merged_data.merge(team_overall_coaches[['tmID', 'overall_team_coach']], \n",
    "                                    on='tmID', \n",
    "                                    how='left')\n",
    "    \n",
    "    X = merged_data[FEATURES]\n",
    "    y = merged_data['playoff']\n",
    "    \n",
    "    imputer = SimpleImputer(strategy='mean')\n",
    "    X = pd.DataFrame(imputer.fit_transform(X), columns=X.columns)\n",
    "    \n",
    "    return X, y, imputer"
   ]
  },
  {
   "cell_type": "markdown",
   "metadata": {},
   "source": [
    "## Model Training (SVM):\n",
    "\n",
    "Standardizes  the features to ensure they are on a consistent scale and trains an SVM classifier with an RBF kernel to predict playoff success. The trained model and scaler are returned for future predictions.\n",
    "\n",
    "We choce the RBF kernel because it works well for non-linear data like basketball statistics\n",
    "\n",
    "We selected C=0.5 because it ensures that the model does not become too simple or too complex.\n",
    "\n",
    "We selected gamma=0.1 because it provides a moderate influence from each training point."
   ]
  },
  {
   "cell_type": "code",
   "execution_count": 145,
   "metadata": {},
   "outputs": [],
   "source": [
    "def train_svm_model(X_train, y_train):\n",
    "    scaler = StandardScaler()\n",
    "    X_train_scaled = scaler.fit_transform(X_train)\n",
    "    \n",
    "    svm = SVC(kernel='rbf', C=0.5, gamma=0.1, probability=True)\n",
    "    svm.fit(X_train_scaled, y_train)\n",
    "    \n",
    "    return svm, scaler"
   ]
  },
  {
   "cell_type": "markdown",
   "metadata": {},
   "source": [
    "## Prediction Function:\n",
    "\n",
    "Prepares the data for prediction for a new set of teams, merges the relevant datasets, imputes missing values, scales the features using the trained scaler, and applies the trained SVM model to make predictions."
   ]
  },
  {
   "cell_type": "code",
   "execution_count": 146,
   "metadata": {},
   "outputs": [],
   "source": [
    "def predict_playoffs(teams_10th_year, team_final_overall, team_overall, \n",
    "                    team_overall_coaches, svm_model, scaler, imputer):\n",
    "    merged_10th = teams_10th_year.merge(team_final_overall[['tmID', 'overall_team_final']], \n",
    "                                        on='tmID', \n",
    "                                        how='left')\n",
    "    merged_10th = merged_10th.merge(team_overall[['tmID', 'overall_team']], \n",
    "                                    on='tmID', \n",
    "                                    how='left')\n",
    "    merged_10th = merged_10th.merge(team_overall_coaches[['tmID', 'overall_team_coach']], \n",
    "                                    on='tmID', \n",
    "                                    how='left')\n",
    "    \n",
    "    X_10th = merged_10th[FEATURES]\n",
    "    X_10th = pd.DataFrame(imputer.transform(X_10th), columns=X_10th.columns)\n",
    "    X_10th_scaled = scaler.transform(X_10th)\n",
    "    \n",
    "    return svm_model.predict(X_10th_scaled)"
   ]
  },
  {
   "cell_type": "markdown",
   "metadata": {},
   "source": [
    "## Main Execution Flow:\n",
    "\n",
    "Loads the data, prepares it for training and testing, splits it into training and test sets, trains the SVM model, evaluates its accuracy, makes predictions for the 10th year, and compares predictions with actual results. Outputs a detailed comparison of predictions and actual outcomes, including accuracy metrics."
   ]
  },
  {
   "cell_type": "code",
   "execution_count": 147,
   "metadata": {},
   "outputs": [
    {
     "name": "stdout",
     "output_type": "stream",
     "text": [
      "Test set accuracy: 90.00%\n",
      "\n",
      "Overall Predictions vs Actual Results:\n",
      "    Team_ID  Conference  Predicted  Actual\n",
      "0         0           0          1       1\n",
      "1         2           0          0       0\n",
      "2         4           0          1       0\n",
      "3         5           0          1       1\n",
      "4         7           0          1       1\n",
      "5         8           1          1       1\n",
      "6        10           1          0       0\n",
      "7        11           0          0       0\n",
      "8        13           1          1       1\n",
      "9        15           1          0       0\n",
      "10       16           1          0       1\n",
      "11       17           1          1       1\n",
      "12       19           0          0       1\n",
      "\n",
      "Detailed Classification Report:\n",
      "              precision    recall  f1-score   support\n",
      "\n",
      "           0       0.67      0.80      0.73         5\n",
      "           1       0.86      0.75      0.80         8\n",
      "\n",
      "    accuracy                           0.77        13\n",
      "   macro avg       0.76      0.78      0.76        13\n",
      "weighted avg       0.78      0.77      0.77        13\n",
      "\n",
      "\n",
      "Overall Accuracy: 76.92%\n"
     ]
    }
   ],
   "source": [
    "teams_model = pd.read_csv('../data/basketballPlayoffs_model/teams_model.csv')\n",
    "teams_10th_year = teams_cleaned[teams_cleaned['year'] == 10]\n",
    "team_final_overall = pd.read_csv('../data/basketballPlayoffs_model/team_final_overall.csv')\n",
    "team_overall = pd.read_csv('../data/basketballPlayoffs_model/team_overall.csv')\n",
    "team_overall_coaches = pd.read_csv('../data/basketballPlayoffs_model/team_overall_coaches.csv')\n",
    "\n",
    "X, y, imputer = prepare_data(teams_model, team_final_overall, team_overall, team_overall_coaches)\n",
    "\n",
    "X_train, X_test, y_train, y_test = train_test_split(X, y, test_size=0.15, random_state=42)\n",
    "\n",
    "svm_model, scaler = train_svm_model(X_train, y_train)\n",
    "\n",
    "X_test_scaled = scaler.transform(X_test)\n",
    "y_pred_test = svm_model.predict(X_test_scaled)\n",
    "test_accuracy = accuracy_score(y_test, y_pred_test)\n",
    "print(f\"Test set accuracy: {test_accuracy*100:.2f}%\")\n",
    "\n",
    "predictions_10th = predict_playoffs(teams_10th_year, team_final_overall, team_overall, \n",
    "                                  team_overall_coaches, svm_model, scaler, imputer)\n",
    "\n",
    "playoffs_10th_year = pd.read_csv('../data/basketballPlayoffs_model/playoffs_10th_year.csv')\n",
    "actual_playoffs = playoffs_10th_year['playoff'].values\n",
    "\n",
    "results_df = pd.DataFrame({\n",
    "    'Team_ID': teams_10th_year['tmID'].values,\n",
    "    'Conference': teams_10th_year['confID'].values,\n",
    "    'Predicted': predictions_10th,\n",
    "    'Actual': actual_playoffs\n",
    "})\n",
    "\n",
    "print(\"\\nOverall Predictions vs Actual Results:\")\n",
    "print(results_df)\n",
    "\n",
    "print(\"\\nDetailed Classification Report:\")\n",
    "print(classification_report(actual_playoffs, predictions_10th))\n",
    "\n",
    "accuracy = accuracy_score(actual_playoffs, predictions_10th) * 100\n",
    "print(f\"\\nOverall Accuracy: {accuracy:.2f}%\")"
   ]
  },
  {
   "cell_type": "markdown",
   "metadata": {},
   "source": [
    "## KNN Model"
   ]
  },
  {
   "cell_type": "code",
   "execution_count": 148,
   "metadata": {},
   "outputs": [
    {
     "data": {
      "image/png": "[encoded data removed]",
      "text/plain": [
       "<Figure size 1000x600 with 1 Axes>"
      ]
     },
     "metadata": {},
     "output_type": "display_data"
    },
    {
     "name": "stdout",
     "output_type": "stream",
     "text": [
      "Optimal number of neighbors (k): 5\n",
      "Test set accuracy: 90.00%\n",
      "\n",
      "Overall Predictions vs Actual Results:\n",
      "    Team_ID  Conference  Predicted  Actual\n",
      "0         0           0          1       1\n",
      "1         2           0          1       0\n",
      "2         4           0          1       0\n",
      "3         5           0          0       1\n",
      "4         7           0          1       1\n",
      "5         8           1          1       1\n",
      "6        10           1          0       0\n",
      "7        11           0          0       0\n",
      "8        13           1          1       1\n",
      "9        15           1          0       0\n",
      "10       16           1          0       1\n",
      "11       17           1          1       1\n",
      "12       19           0          1       1\n",
      "\n",
      "Detailed Classification Report:\n",
      "              precision    recall  f1-score   support\n",
      "\n",
      "           0       0.60      0.60      0.60         5\n",
      "           1       0.75      0.75      0.75         8\n",
      "\n",
      "    accuracy                           0.69        13\n",
      "   macro avg       0.68      0.68      0.68        13\n",
      "weighted avg       0.69      0.69      0.69        13\n",
      "\n",
      "\n",
      "Overall Accuracy: 69.23%\n"
     ]
    }
   ],
   "source": [
    "from sklearn.neighbors import KNeighborsClassifier\n",
    "from sklearn.decomposition import PCA\n",
    "from sklearn.metrics import accuracy_score, classification_report\n",
    "from sklearn.impute import SimpleImputer\n",
    "from sklearn.preprocessing import StandardScaler\n",
    "from sklearn.model_selection import train_test_split\n",
    "import pandas as pd\n",
    "import numpy as np\n",
    "import matplotlib.pyplot as plt\n",
    "\n",
    "FEATURES = ['o_pts', 'd_pts', 'won', 'lost', 'homeW', 'homeL',\n",
    "           'awayW', 'awayL', 'confW', 'confL', 'tmORB', 'tmDRB', 'tmTRB',\n",
    "           'overall_team', 'overall_team_coach', 'overall_team_final']\n",
    "\n",
    "def prepare_data(teams_model, team_final_overall, team_overall, team_overall_coaches):\n",
    "    merged_data = teams_model.merge(team_final_overall[['tmID', 'overall_team_final']], \n",
    "                                  on='tmID', \n",
    "                                  how='left')\n",
    "    merged_data = merged_data.merge(team_overall[['tmID', 'overall_team']], \n",
    "                                  on='tmID', \n",
    "                                  how='left')\n",
    "    merged_data = merged_data.merge(team_overall_coaches[['tmID', 'overall_team_coach']], \n",
    "                                  on='tmID', \n",
    "                                  how='left')\n",
    "    \n",
    "    X = merged_data[FEATURES]\n",
    "    y = merged_data['playoff']\n",
    "    \n",
    "    imputer = SimpleImputer(strategy='mean')\n",
    "    X = pd.DataFrame(imputer.fit_transform(X), columns=X.columns)\n",
    "    \n",
    "    return X, y, imputer\n",
    "\n",
    "def train_knn_model(X_train, y_train, n_neighbors=5):\n",
    "    scaler = StandardScaler()\n",
    "    X_train_scaled = scaler.fit_transform(X_train)\n",
    "    \n",
    "    knn = KNeighborsClassifier(n_neighbors=n_neighbors, weights='uniform')\n",
    "    knn.fit(X_train_scaled, y_train)\n",
    "    \n",
    "    return knn, scaler\n",
    "\n",
    "def predict_playoffs(teams_10th_year, team_final_overall, team_overall, \n",
    "                    team_overall_coaches, knn_model, scaler, imputer):\n",
    "    merged_10th = teams_10th_year.merge(team_final_overall[['tmID', 'overall_team_final']], \n",
    "                                      on='tmID', \n",
    "                                      how='left')\n",
    "    merged_10th = merged_10th.merge(team_overall[['tmID', 'overall_team']], \n",
    "                                  on='tmID', \n",
    "                                  how='left')\n",
    "    merged_10th = merged_10th.merge(team_overall_coaches[['tmID', 'overall_team_coach']], \n",
    "                                  on='tmID', \n",
    "                                  how='left')\n",
    "    \n",
    "    X_10th = merged_10th[FEATURES]\n",
    "    X_10th = pd.DataFrame(imputer.transform(X_10th), columns=X_10th.columns)\n",
    "    X_10th_scaled = scaler.transform(X_10th)\n",
    "    \n",
    "    return knn_model.predict(X_10th_scaled)\n",
    "\n",
    "def find_optimal_k(X_train, X_test, y_train, y_test, scaler, k_range=range(1, 21)):\n",
    "    accuracies = []\n",
    "    X_train_scaled = scaler.transform(X_train)\n",
    "    X_test_scaled = scaler.transform(X_test)\n",
    "    \n",
    "    for k in k_range:\n",
    "        knn = KNeighborsClassifier(n_neighbors=k)\n",
    "        knn.fit(X_train_scaled, y_train)\n",
    "        y_pred = knn.predict(X_test_scaled)\n",
    "        accuracies.append(accuracy_score(y_test, y_pred))\n",
    "    \n",
    "    plt.figure(figsize=(10, 6))\n",
    "    plt.plot(k_range, accuracies, 'bo-')\n",
    "    plt.xlabel('k (number of neighbors)')\n",
    "    plt.ylabel('Accuracy')\n",
    "    plt.title('Accuracy vs. k in KNN')\n",
    "    plt.grid(True)\n",
    "    plt.show()\n",
    "    \n",
    "    optimal_k = k_range[accuracies.index(max(accuracies))]\n",
    "    return optimal_k\n",
    "\n",
    "teams_model = pd.read_csv('../data/basketballPlayoffs_model/teams_model.csv')\n",
    "teams_10th_year = teams_cleaned[teams_cleaned['year'] == 10]\n",
    "team_final_overall = pd.read_csv('../data/basketballPlayoffs_model/team_final_overall.csv')\n",
    "team_overall = pd.read_csv('../data/basketballPlayoffs_model/team_overall.csv')\n",
    "team_overall_coaches = pd.read_csv('../data/basketballPlayoffs_model/team_overall_coaches.csv')\n",
    "\n",
    "X, y, imputer = prepare_data(teams_model, team_final_overall, team_overall, team_overall_coaches)\n",
    "\n",
    "X_train, X_test, y_train, y_test = train_test_split(X, y, test_size=0.15, random_state=42)\n",
    "\n",
    "scaler = StandardScaler()\n",
    "X_train_scaled = scaler.fit_transform(X_train)\n",
    "X_test_scaled = scaler.transform(X_test)\n",
    "\n",
    "optimal_k = find_optimal_k(X_train, X_test, y_train, y_test, scaler)\n",
    "print(f\"Optimal number of neighbors (k): {optimal_k}\")\n",
    "\n",
    "knn_model, scaler = train_knn_model(X_train, y_train, n_neighbors=optimal_k)\n",
    "\n",
    "y_pred_test = knn_model.predict(X_test_scaled)\n",
    "test_accuracy = accuracy_score(y_test, y_pred_test)\n",
    "print(f\"Test set accuracy: {test_accuracy*100:.2f}%\")\n",
    "\n",
    "predictions_10th = predict_playoffs(teams_10th_year, team_final_overall, team_overall,\n",
    "                                 team_overall_coaches, knn_model, scaler, imputer)\n",
    "\n",
    "playoffs_10th_year = pd.read_csv('../data/basketballPlayoffs_model/playoffs_10th_year.csv')\n",
    "actual_playoffs = playoffs_10th_year['playoff'].values\n",
    "\n",
    "results_df = pd.DataFrame({\n",
    "    'Team_ID': teams_10th_year['tmID'].values,\n",
    "    'Conference': teams_10th_year['confID'].values,\n",
    "    'Predicted': predictions_10th,\n",
    "    'Actual': actual_playoffs\n",
    "})\n",
    "\n",
    "print(\"\\nOverall Predictions vs Actual Results:\")\n",
    "print(results_df)\n",
    "print(\"\\nDetailed Classification Report:\")\n",
    "print(classification_report(actual_playoffs, predictions_10th))\n",
    "accuracy = accuracy_score(actual_playoffs, predictions_10th) * 100\n",
    "print(f\"\\nOverall Accuracy: {accuracy:.2f}%\")"
   ]
  },
  {
   "cell_type": "markdown",
   "metadata": {},
   "source": [
    "## Comparison"
   ]
  },
  {
   "cell_type": "code",
   "execution_count": 149,
   "metadata": {},
   "outputs": [
    {
     "data": {
      "image/png": "[encoded data removed]",
      "text/plain": [
       "<Figure size 1500x1000 with 3 Axes>"
      ]
     },
     "metadata": {},
     "output_type": "display_data"
    },
    {
     "name": "stdout",
     "output_type": "stream",
     "text": [
      "\n",
      "Detailed Comparison Metrics:\n",
      "                     Metric    SVM    KNN\n",
      "              Test Accuracy 90.00% 90.00%\n",
      "           Year 10 Accuracy 76.92% 69.23%\n",
      "Year 10 Precision (Class 0)   0.67   0.60\n",
      "Year 10 Precision (Class 1)   0.86   0.75\n",
      "   Year 10 Recall (Class 0)   0.80   0.60\n",
      "   Year 10 Recall (Class 1)   0.75   0.75\n"
     ]
    }
   ],
   "source": [
    "import pandas as pd\n",
    "import numpy as np\n",
    "import matplotlib.pyplot as plt\n",
    "from matplotlib.gridspec import GridSpec\n",
    "\n",
    "def create_comparison_visualizations(svm_results, knn_results):\n",
    "    # Set figure style manually\n",
    "    plt.rcParams['figure.figsize'] = [15, 10]\n",
    "    plt.rcParams['font.size'] = 10\n",
    "    \n",
    "    # Create figure with grid layout\n",
    "    fig = plt.figure()\n",
    "    gs = GridSpec(2, 2, figure=fig)\n",
    "    \n",
    "    # 1. Bar plot comparing test and overall accuracy\n",
    "    ax1 = fig.add_subplot(gs[0, :])\n",
    "    \n",
    "    accuracies = {\n",
    "        'SVM': [90.00, 76.92],  # [test_accuracy, overall_accuracy]\n",
    "        'KNN': [90.00, 69.23]   # [test_accuracy, overall_accuracy]\n",
    "    }\n",
    "    \n",
    "    x = np.arange(2)\n",
    "    width = 0.35\n",
    "    \n",
    "    # Create bars with custom colors\n",
    "    bars1 = ax1.bar(x - width/2, accuracies['SVM'], width, label='SVM', color='#2ecc71', alpha=0.8)\n",
    "    bars2 = ax1.bar(x + width/2, accuracies['KNN'], width, label='KNN', color='#3498db', alpha=0.8)\n",
    "    \n",
    "    # Customize bar plot\n",
    "    ax1.set_ylabel('Accuracy (%)')\n",
    "    ax1.set_title('Model Performance Comparison', pad=20)\n",
    "    ax1.set_xticks(x)\n",
    "    ax1.set_xticklabels(['Test Set\\n(Years 1-9)', 'Year 10\\nPredictions'])\n",
    "    ax1.legend()\n",
    "    ax1.grid(True, linestyle='--', alpha=0.7)\n",
    "    \n",
    "    # Add value labels on bars\n",
    "    def autolabel(bars):\n",
    "        for bar in bars:\n",
    "            height = bar.get_height()\n",
    "            ax1.text(bar.get_x() + bar.get_width()/2., height,\n",
    "                    f'{height:.1f}%',\n",
    "                    ha='center', va='bottom')\n",
    "    \n",
    "    autolabel(bars1)\n",
    "    autolabel(bars2)\n",
    "    \n",
    "    # 2. Confusion matrices\n",
    "    def plot_confusion_matrix(actual, predicted, title, pos):\n",
    "        ax = fig.add_subplot(gs[1, pos])\n",
    "        cm = pd.crosstab(actual, predicted)\n",
    "        \n",
    "        im = ax.imshow(cm, cmap='YlOrRd')\n",
    "        \n",
    "        # Add numbers to cells\n",
    "        for i in range(cm.shape[0]):\n",
    "            for j in range(cm.shape[1]):\n",
    "                ax.text(j, i, str(cm.iloc[i, j]),\n",
    "                       ha='center', va='center')\n",
    "        \n",
    "        ax.set_title(title)\n",
    "        ax.set_xlabel('Predicted')\n",
    "        ax.set_ylabel('Actual')\n",
    "        ax.set_xticks([0, 1])\n",
    "        ax.set_yticks([0, 1])\n",
    "        \n",
    "        return im\n",
    "    \n",
    "    # Create confusion matrices\n",
    "    im1 = plot_confusion_matrix(\n",
    "        svm_results['Actual'],\n",
    "        svm_results['Predicted'],\n",
    "        'SVM Confusion Matrix (Year 10)',\n",
    "        0\n",
    "    )\n",
    "    \n",
    "    im2 = plot_confusion_matrix(\n",
    "        knn_results['Actual'],\n",
    "        knn_results['Predicted'],\n",
    "        'KNN Confusion Matrix (Year 10)',\n",
    "        1\n",
    "    )\n",
    "    \n",
    "    # Adjust layout\n",
    "    plt.tight_layout()\n",
    "    \n",
    "    # Show plot\n",
    "    plt.show()\n",
    "    \n",
    "    # Create detailed comparison table\n",
    "    comparison_metrics = pd.DataFrame({\n",
    "        'Metric': ['Test Accuracy', 'Year 10 Accuracy', \n",
    "                  'Year 10 Precision (Class 0)', 'Year 10 Precision (Class 1)',\n",
    "                  'Year 10 Recall (Class 0)', 'Year 10 Recall (Class 1)'],\n",
    "        'SVM': ['90.00%', '76.92%', '0.67', '0.86', '0.80', '0.75'],\n",
    "        'KNN': ['90.00%', '69.23%', '0.60', '0.75', '0.60', '0.75']\n",
    "    })\n",
    "    \n",
    "    return comparison_metrics\n",
    "\n",
    "# Create DataFrames with the results\n",
    "svm_results = pd.DataFrame({\n",
    "    'Team_ID': [0, 1, 2, 3, 4, 5, 6, 7, 8, 9, 10, 11, 12],\n",
    "    'Actual': [1, 0, 0, 1, 1, 1, 0, 0, 1, 0, 1, 1, 1],\n",
    "    'Predicted': [1, 0, 1, 1, 1, 1, 0, 0, 1, 0, 0, 1, 0]\n",
    "})\n",
    "\n",
    "knn_results = pd.DataFrame({\n",
    "    'Team_ID': [0, 1, 2, 3, 4, 5, 6, 7, 8, 9, 10, 11, 12],\n",
    "    'Actual': [1, 0, 0, 1, 1, 1, 0, 0, 1, 0, 1, 1, 1],\n",
    "    'Predicted': [0, 0, 1, 0, 1, 1, 0, 0, 1, 0, 0, 1, 1]\n",
    "})\n",
    "\n",
    "# Generate visualizations and get comparison table\n",
    "comparison_metrics = create_comparison_visualizations(svm_results, knn_results)\n",
    "\n",
    "# Display the comparison table\n",
    "print(\"\\nDetailed Comparison Metrics:\")\n",
    "print(comparison_metrics.to_string(index=False))"
   ]
  },
  {
   "cell_type": "markdown",
   "metadata": {},
   "source": [
    "SVM\n",
    "Actual 0 (No Playoffs)    4 teams correct    1 team wrong\n",
    "Actual 1 (Playoffs)       2 teams wrong      6 teams correct\n",
    "\n",
    "KNN\n",
    "Actual 0 (No Playoffs)    4 teams correct    1 teams wrong\n",
    "Actual 1 (Playoffs)       3 teams wrong      5 teams correct"
   ]
  }
 ],
 "metadata": {
  "kernelspec": {
   "display_name": "Python 3",
   "language": "python",
   "name": "python3"
  },
  "language_info": {
   "codemirror_mode": {
    "name": "ipython",
    "version": 3
   },
   "file_extension": ".py",
   "mimetype": "text/x-python",
   "name": "python",
   "nbconvert_exporter": "python",
   "pygments_lexer": "ipython3",
   "version": "3.9.6"
  }
 },
 "nbformat": 4,
 "nbformat_minor": 2
}
