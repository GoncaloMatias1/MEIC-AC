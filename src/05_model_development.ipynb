{
 "cells": [
  {
   "cell_type": "markdown",
   "metadata": {},
   "source": [
    "# Imports"
   ]
  },
  {
   "cell_type": "code",
   "execution_count": 1,
   "metadata": {},
   "outputs": [],
   "source": [
    "import pandas as pd\n",
    "import numpy as np\n",
    "import matplotlib.pyplot as plt\n",
    "import seaborn as sns\n",
    "import os\n",
    "\n",
    "awards_players_cleaned = pd.read_csv('../data/basketballPlayoffs_cleaned/awards_players_cleaned.csv')\n",
    "coaches_cleaned = pd.read_csv('../data/basketballPlayoffs_cleaned/coaches_cleaned.csv')\n",
    "players_cleaned = pd.read_csv('../data/basketballPlayoffs_cleaned/players_cleaned.csv')\n",
    "players_teams_cleaned = pd.read_csv('../data/basketballPlayoffs_cleaned/players_teams_cleaned.csv')\n",
    "series_post_cleaned = pd.read_csv('../data/basketballPlayoffs_cleaned/series_post_cleaned.csv')\n",
    "teams_cleaned = pd.read_csv('../data/basketballPlayoffs_cleaned/teams_cleaned.csv')\n",
    "teams_post_cleaned = pd.read_csv('../data/basketballPlayoffs_cleaned/teams_post_cleaned.csv')"
   ]
  },
  {
   "cell_type": "markdown",
   "metadata": {},
   "source": [
    "# Obtain data from only 9 years"
   ]
  },
  {
   "cell_type": "code",
   "execution_count": 2,
   "metadata": {},
   "outputs": [],
   "source": [
    "awards_players_model = awards_players_cleaned[awards_players_cleaned['year'] != 10]\n",
    "coaches_model = coaches_cleaned[coaches_cleaned['year'] != 10]\n",
    "players_teams_model = players_teams_cleaned[players_teams_cleaned['year'] != 10]\n",
    "series_post_model = series_post_cleaned[series_post_cleaned['year'] != 10]\n",
    "teams_model = teams_cleaned[teams_cleaned['year'] != 10]\n",
    "teams_post_model = teams_post_cleaned[teams_post_cleaned['year'] != 10]\n",
    "\n",
    "os.makedirs('../data/basketballPlayoffs_model', exist_ok=True)\n",
    "\n",
    "awards_players_model.to_csv('../data/basketballPlayoffs_model/awards_players_model.csv', index=False)\n",
    "coaches_model.to_csv('../data/basketballPlayoffs_model/coaches_model.csv', index=False)\n",
    "players_cleaned.to_csv('../data/basketballPlayoffs_model/players_model.csv', index=False)\n",
    "players_teams_model.to_csv('../data/basketballPlayoffs_model/players_teams_model.csv', index=False)\n",
    "series_post_model.to_csv('../data/basketballPlayoffs_model/series_post_model.csv', index=False)\n",
    "teams_model.to_csv('../data/basketballPlayoffs_model/teams_model.csv', index=False)\n",
    "teams_post_model.to_csv('../data/basketballPlayoffs_model/teams_post_model.csv', index=False)"
   ]
  },
  {
   "cell_type": "markdown",
   "metadata": {},
   "source": [
    "# Overalls from only 9 years"
   ]
  },
  {
   "cell_type": "code",
   "execution_count": 3,
   "metadata": {},
   "outputs": [],
   "source": [
    "players_overall_avg = players_teams_model.groupby('playerID')['OVERALL'].mean().reset_index()\n",
    "\n",
    "players_overall_avg.rename(columns={'OVERALL': 'OVERALL_ALL_TIME'}, inplace=True)\n",
    "\n",
    "players_overall_avg['OVERALL_ALL_TIME'] = players_overall_avg['OVERALL_ALL_TIME'].round(1)\n",
    "\n",
    "players_overall_avg.to_csv('../data/basketballPlayoffs_model/players_overall_all_time_model.csv', index=False)"
   ]
  },
  {
   "cell_type": "code",
   "execution_count": 4,
   "metadata": {},
   "outputs": [],
   "source": [
    "rookie_players = players_teams_model[players_teams_model['is_rookie'] == 1]\n",
    "\n",
    "rookie_overall_avg = rookie_players['OVERALL'].mean().round(1)\n",
    "\n",
    "rookie_overall_avg_df = pd.DataFrame({'rookie_overall_avg': [rookie_overall_avg]})\n",
    "\n",
    "rookie_overall_avg_df.to_csv('../data/basketballPlayoffs_model/rookie_overall_avg_model.csv', index=False)"
   ]
  },
  {
   "cell_type": "code",
   "execution_count": 5,
   "metadata": {},
   "outputs": [],
   "source": [
    "rookie_coaches = coaches_model[coaches_model['is_rookie'] == 1]\n",
    "\n",
    "rookie_overall_coaches_avg = rookie_coaches['OVERALL'].mean().round(1)\n",
    "\n",
    "rookie_overall_coaches_avg_df = pd.DataFrame({'rookie_overall_coaches_avg': [rookie_overall_coaches_avg]})\n",
    "\n",
    "rookie_overall_coaches_avg_df.to_csv('../data/basketballPlayoffs_model/rookie_overall_coaches_avg_model.csv', index=False)"
   ]
  },
  {
   "cell_type": "code",
   "execution_count": 6,
   "metadata": {},
   "outputs": [],
   "source": [
    "coaches_overall_avg = coaches_model.groupby('coachID')['OVERALL'].mean().reset_index()\n",
    "\n",
    "coaches_overall_avg.rename(columns={'OVERALL': 'OVERALL_ALL_TIME'}, inplace=True)\n",
    "\n",
    "coaches_overall_avg['OVERALL_ALL_TIME'] = coaches_overall_avg['OVERALL_ALL_TIME'].round(1)\n",
    "\n",
    "coaches_overall_avg.to_csv('../data/basketballPlayoffs_model/coaches_overall_all_time_model.csv', index=False)"
   ]
  },
  {
   "cell_type": "markdown",
   "metadata": {},
   "source": [
    "# Obtain ranks from the 10th year to compare"
   ]
  },
  {
   "cell_type": "code",
   "execution_count": 7,
   "metadata": {},
   "outputs": [],
   "source": [
    "playoffs_10th_year = teams_cleaned[teams_cleaned['year'] == 10][['tmID', 'playoff']]\n",
    "\n",
    "playoffs_10th_year.to_csv('../data/basketballPlayoffs_model/playoffs_10th_year.csv', index=False)"
   ]
  },
  {
   "cell_type": "markdown",
   "metadata": {},
   "source": [
    "# Obtain teams line up and coach from the 10th year"
   ]
  },
  {
   "cell_type": "code",
   "execution_count": 8,
   "metadata": {},
   "outputs": [],
   "source": [
    "coaches_model_10th_year = coaches_cleaned[coaches_cleaned['year'] == 10][['coachID', 'tmID',]]\n",
    "\n",
    "coaches_model_10th_year.to_csv('../data/basketballPlayoffs_model/coaches_model_10th_year.csv', index=False)"
   ]
  },
  {
   "cell_type": "code",
   "execution_count": 9,
   "metadata": {},
   "outputs": [],
   "source": [
    "players_model_10th_year = players_teams_cleaned[players_teams_cleaned['year'] == 10][['playerID','tmID']]\n",
    "\n",
    "players_model_10th_year = players_model_10th_year.sort_values(by='tmID')\n",
    "\n",
    "players_model_10th_year.to_csv('../data/basketballPlayoffs_model/players_model_10th_year.csv', index=False)"
   ]
  },
  {
   "cell_type": "markdown",
   "metadata": {},
   "source": [
    "# Add overalls calculated from 9 years to the 10th year players and coach"
   ]
  },
  {
   "cell_type": "code",
   "execution_count": 10,
   "metadata": {},
   "outputs": [],
   "source": [
    "players_model_10th_year = pd.read_csv('../data/basketballPlayoffs_model/players_model_10th_year.csv')\n",
    "players_overall_all_time_model = pd.read_csv('../data/basketballPlayoffs_model/players_overall_all_time_model.csv')\n",
    "\n",
    "rookie_avg = 5.6 \n",
    "\n",
    "players_model_10th_year = players_model_10th_year.merge(\n",
    "    players_overall_all_time_model[['playerID', 'OVERALL_ALL_TIME']],\n",
    "    on='playerID',\n",
    "    how='left'\n",
    ").fillna({'OVERALL_ALL_TIME': rookie_avg})\n",
    "\n",
    "players_model_10th_year.rename(columns={'OVERALL_ALL_TIME': 'OVERALL'}, inplace=True)\n",
    "\n",
    "players_model_10th_year.to_csv('../data/basketballPlayoffs_model/players_model_10th_year.csv', index=False)"
   ]
  },
  {
   "cell_type": "code",
   "execution_count": 11,
   "metadata": {},
   "outputs": [],
   "source": [
    "coaches_model_10th_year = pd.read_csv('../data/basketballPlayoffs_model/coaches_model_10th_year.csv')\n",
    "coaches_overall_all_time_model = pd.read_csv('../data/basketballPlayoffs_model/coaches_overall_all_time_model.csv')\n",
    "\n",
    "rookie_avg_coach = 8.9 \n",
    "\n",
    "coaches_model_10th_year = coaches_model_10th_year.merge(\n",
    "    coaches_overall_all_time_model[['coachID', 'OVERALL_ALL_TIME']],\n",
    "    on='coachID',\n",
    "    how='left'\n",
    ").fillna({'OVERALL_ALL_TIME': rookie_avg_coach})\n",
    "\n",
    "coaches_model_10th_year.rename(columns={'OVERALL_ALL_TIME': 'OVERALL'}, inplace=True)\n",
    "\n",
    "coaches_model_10th_year.to_csv('../data/basketballPlayoffs_model/coaches_model_10th_year.csv', index=False)\n"
   ]
  },
  {
   "cell_type": "markdown",
   "metadata": {},
   "source": [
    "# Given the teams players composition and their respective overalls calculate the team overall (mean of all players)"
   ]
  },
  {
   "cell_type": "code",
   "execution_count": 12,
   "metadata": {},
   "outputs": [],
   "source": [
    "players_model_10th_year = pd.read_csv('../data/basketballPlayoffs_model/players_model_10th_year.csv')\n",
    "\n",
    "team_overall = players_model_10th_year.groupby('tmID')['OVERALL'].mean().reset_index()\n",
    "\n",
    "team_overall['overall_team'] = team_overall['OVERALL'].round(1)\n",
    "\n",
    "team_overall = team_overall.drop(columns=['OVERALL'])\n",
    "\n",
    "team_overall.to_csv('../data/basketballPlayoffs_model/team_overall.csv', index=False)"
   ]
  },
  {
   "cell_type": "markdown",
   "metadata": {},
   "source": [
    "# Given the team coaches and their respective overalls calculate the coach overall (mean of all coaches(1 or more than 1))"
   ]
  },
  {
   "cell_type": "code",
   "execution_count": 13,
   "metadata": {},
   "outputs": [],
   "source": [
    "coaches_model_10th_year = pd.read_csv('../data/basketballPlayoffs_model/coaches_model_10th_year.csv')\n",
    "\n",
    "team_overall_coaches = coaches_model_10th_year.groupby('tmID')['OVERALL'].mean().reset_index()\n",
    "\n",
    "team_overall_coaches['overall_team_coach'] = team_overall_coaches['OVERALL'].round(1)\n",
    "\n",
    "team_overall_coaches = team_overall_coaches.drop(columns=['OVERALL'])\n",
    "\n",
    "team_overall_coaches.to_csv('../data/basketballPlayoffs_model/team_overall_coaches.csv', index=False)"
   ]
  },
  {
   "cell_type": "markdown",
   "metadata": {},
   "source": [
    "# Create team final overall ( 90% team + 10% coach)"
   ]
  },
  {
   "cell_type": "code",
   "execution_count": 14,
   "metadata": {},
   "outputs": [],
   "source": [
    "team_overall = pd.read_csv('../data/basketballPlayoffs_model/team_overall.csv')\n",
    "team_overall_coach = pd.read_csv('../data/basketballPlayoffs_model/team_overall_coaches.csv')\n",
    "teams_model = pd.read_csv('../data/basketballPlayoffs_model/teams_model.csv')\n",
    "\n",
    "merged_df = pd.merge(team_overall, team_overall_coach, on='tmID')\n",
    "\n",
    "merged_df['overall_team_final'] = (merged_df['overall_team'] * 0.9) + (merged_df['overall_team_coach'] * 0.1)\n",
    "merged_df['overall_team_final'] = merged_df['overall_team_final'].round(2)\n",
    "\n",
    "merged_df = pd.merge(merged_df, teams_model[['tmID', 'confID']], on='tmID', how='left')\n",
    "\n",
    "final_df = merged_df[['tmID', 'confID', 'overall_team_final']]\n",
    "\n",
    "final_df = final_df.drop_duplicates(subset='tmID')\n",
    "\n",
    "final_df = final_df.sort_values(by='overall_team_final', ascending=True)\n",
    "\n",
    "final_df.to_csv('../data/basketballPlayoffs_model/team_final_overall.csv', index=False)"
   ]
  },
  {
   "cell_type": "markdown",
   "metadata": {},
   "source": [
    "# Accuracy"
   ]
  },
  {
   "cell_type": "code",
   "execution_count": 40,
   "metadata": {},
   "outputs": [
    {
     "name": "stdout",
     "output_type": "stream",
     "text": [
      "Teams that go to the playoffs acording to the previsions:\n",
      "\n",
      "    tmID  confID  overall_team_final\n",
      "12     8       1               11.17\n",
      "11    16       1                9.13\n",
      "10     5       0                8.95\n",
      "9     13       1                8.68\n",
      "8     17       1                8.54\n",
      "5     11       0                8.28\n",
      "4      7       0                8.21\n",
      "3     19       0                8.18\n",
      "\n",
      "Teams that are in the playoffs and in the previsions:\n",
      "\n",
      "   tmID  confID  overall_team_final  playoff\n",
      "0     8       1               11.17        1\n",
      "1    16       1                9.13        1\n",
      "2     5       0                8.95        1\n",
      "3    13       1                8.68        1\n",
      "4    17       1                8.54        1\n",
      "6     7       0                8.21        1\n",
      "7    19       0                8.18        1\n",
      "\n",
      "The accuracy is 87.50%\n"
     ]
    }
   ],
   "source": [
    "team_final_overall = pd.read_csv('../data/basketballPlayoffs_model/team_final_overall.csv')\n",
    "playoffs_10th_year = pd.read_csv('../data/basketballPlayoffs_model/playoffs_10th_year.csv')\n",
    "\n",
    "top_teams_by_conf = team_final_overall.sort_values(by='overall_team_final', ascending=False).groupby('confID').head(4)\n",
    "\n",
    "print(\"Teams that go to the playoffs acording to the previsions:\\n\")\n",
    "print(top_teams_by_conf)\n",
    "\n",
    "comparison = top_teams_by_conf.merge(playoffs_10th_year, on='tmID', how='left')\n",
    "\n",
    "correct_predictions = comparison[comparison['playoff'] == 1]\n",
    "\n",
    "print(\"\\nTeams that are in the playoffs and in the previsions:\\n\")\n",
    "print(correct_predictions)\n",
    "\n",
    "accuracy = len(correct_predictions) / len(top_teams_by_conf) * 100\n",
    "print(f\"\\nThe accuracy is {accuracy:.2f}%\")\n"
   ]
  },
  {
   "cell_type": "markdown",
   "metadata": {},
   "source": [
    "## SVM MODEL"
   ]
  },
  {
   "cell_type": "code",
   "execution_count": 113,
   "metadata": {},
   "outputs": [
    {
     "name": "stdout",
     "output_type": "stream",
     "text": [
      "Final Table with Teams and their Adjusted Probabilities (Sorted by Adjusted Probability):\n",
      "    tmID  confID  predicted  playoff  adjusted_probability  overall_team_final\n",
      "12     8       1          1        1                  0.50               11.17\n",
      "10     5       0          1        1                  0.50                8.95\n",
      "3     19       0          1        1                  0.46                8.18\n",
      "4      7       0          1        1                  0.46                8.21\n",
      "5     11       0          1        0                  0.46                8.28\n",
      "2      4       0          0        0                  0.45                8.06\n",
      "1      0       0          0        1                  0.45                7.97\n",
      "0      2       0          0        0                  0.44                7.90\n",
      "11    16       1          1        1                  0.41                9.13\n",
      "9     13       1          1        1                  0.39                8.68\n",
      "7     10       1          0        0                  0.38                8.45\n",
      "6     15       1          0        0                  0.38                8.38\n",
      "8     17       1          1        1                  0.38                8.54\n",
      "\n",
      "Overall Accuracy of prediction vs actual: 0.85\n"
     ]
    }
   ],
   "source": [
    "import pandas as pd\n",
    "from sklearn.model_selection import train_test_split\n",
    "from sklearn.svm import SVC\n",
    "from sklearn.metrics import accuracy_score\n",
    "\n",
    "# Load the data\n",
    "team_final_overall = pd.read_csv('../data/basketballPlayoffs_model/team_final_overall.csv')\n",
    "playoffs_10th_year = pd.read_csv('../data/basketballPlayoffs_model/playoffs_10th_year.csv')\n",
    "\n",
    "# Merge the overall data with the playoff data\n",
    "data = pd.merge(team_final_overall, playoffs_10th_year, on='tmID', how='inner')\n",
    "\n",
    "# Split the data into predictor variables (overalls) and target variables (playoffs)\n",
    "X = data[['overall_team_final']]  # The predictor variable (team's overall average)\n",
    "y = data['playoff']  # The target variable (1 if the team made it to the playoffs, 0 otherwise)\n",
    "\n",
    "# Split into training and testing sets\n",
    "X_train, X_test, y_train, y_test = train_test_split(X, y, test_size=0.3, random_state=42)\n",
    "\n",
    "# Train the SVM model with probability enabled\n",
    "svm_model = SVC(kernel='linear', probability=True)  # Enable probability=True\n",
    "svm_model.fit(X_train, y_train)\n",
    "\n",
    "# Make probability predictions for all teams (not just the test set)\n",
    "probabilities = svm_model.predict_proba(X)[:, 1]  # Probability of the team making the playoffs\n",
    "\n",
    "# Split the data into two conferences: confID == 1 and confID == 0\n",
    "conf_1_data = data[data['confID'] == 1]\n",
    "conf_0_data = data[data['confID'] == 0]\n",
    "\n",
    "# Normalize the probabilities within each conference\n",
    "conf_1_probabilities = (probabilities[conf_1_data.index] - probabilities[conf_1_data.index].min()) / (probabilities[conf_1_data.index].max() - probabilities[conf_1_data.index].min())  # Normalize between 0 and 1\n",
    "conf_0_probabilities = (probabilities[conf_0_data.index] - probabilities[conf_0_data.index].min()) / (probabilities[conf_0_data.index].max() - probabilities[conf_0_data.index].min())  # Normalize between 0 and 1\n",
    "\n",
    "# Adjust the probabilities so that their sum is equal to 8, separately for each conference\n",
    "conf_1_probability_sum = conf_1_probabilities.sum()\n",
    "conf_0_probability_sum = conf_0_probabilities.sum()\n",
    "\n",
    "# Adjust the probabilities so that the sum equals 8 within each conference\n",
    "adjusted_conf_1_probabilities = conf_1_probabilities * 8 / conf_1_probability_sum\n",
    "adjusted_conf_0_probabilities = conf_0_probabilities * 8 / conf_0_probability_sum\n",
    "\n",
    "# **Adjust probabilities based on the \"overall_team_final\"**\n",
    "# Calculate the probabilities directly based on \"overall_team_final\" for each conference\n",
    "conf_1_data = conf_1_data.copy()  # Create an explicit copy\n",
    "conf_0_data = conf_0_data.copy()  # Create an explicit copy\n",
    "\n",
    "conf_1_data['adjusted_probability'] = conf_1_data['overall_team_final'] / conf_1_data['overall_team_final'].max() / 2\n",
    "conf_0_data['adjusted_probability'] = conf_0_data['overall_team_final'] / conf_0_data['overall_team_final'].max() / 2\n",
    "\n",
    "conf_1_data['probability'] = adjusted_conf_1_probabilities\n",
    "conf_0_data['probability'] = adjusted_conf_0_probabilities\n",
    "\n",
    "conf_1_data['predicted'] = 0\n",
    "conf_0_data['predicted'] = 0\n",
    "\n",
    "# Add predictions to the dataset, considering the top 4 teams per conference\n",
    "for conf_data in [conf_1_data, conf_0_data]:\n",
    "    top_teams = conf_data.nlargest(4, 'overall_team_final')  # Select the top 4 teams\n",
    "    conf_data.loc[top_teams.index, 'predicted'] = 1  # Mark the top 4 teams as 1 (make the playoffs)\n",
    "\n",
    "# Concatenate the data from both conferences\n",
    "final_data = pd.concat([conf_1_data, conf_0_data])\n",
    "\n",
    "# Round the 'adjusted_probability' to 2 decimal places\n",
    "final_data['adjusted_probability'] = final_data['adjusted_probability'].round(2)\n",
    "\n",
    "# Sort the teams by adjusted_probability in descending order\n",
    "final_data_sorted = final_data.sort_values(by='adjusted_probability', ascending=False)\n",
    "\n",
    "# Display all teams and their adjusted probabilities, predictions, etc., sorted by adjusted_probability\n",
    "print(\"Final Table with Teams and their Adjusted Probabilities (Sorted by Adjusted Probability):\")\n",
    "print(final_data_sorted[['tmID', 'confID', 'predicted', 'playoff', 'adjusted_probability', 'overall_team_final']])\n",
    "\n",
    "# Compute the overall accuracy (for all teams combined, not per conference)\n",
    "overall_accuracy = accuracy_score(final_data['playoff'], final_data['predicted'])\n",
    "\n",
    "print(f\"\\nOverall Accuracy of prediction vs actual: {overall_accuracy:.2f}\")\n"
   ]
  },
  {
   "cell_type": "markdown",
   "metadata": {},
   "source": [
    "## KNN Model"
   ]
  },
  {
   "cell_type": "code",
   "execution_count": 112,
   "metadata": {},
   "outputs": [
    {
     "name": "stdout",
     "output_type": "stream",
     "text": [
      "Final Table with Teams and their Adjusted Probabilities (Sorted by Probability):\n",
      "    tmID  confID  predicted  playoff  adjusted_probability  overall_team_final\n",
      "12     8       1          1        1                  0.50               11.17\n",
      "10     5       0          1        1                  0.50                8.95\n",
      "3     19       0          1        1                  0.46                8.18\n",
      "4      7       0          1        1                  0.46                8.21\n",
      "5     11       0          1        0                  0.46                8.28\n",
      "2      4       0          0        0                  0.45                8.06\n",
      "1      0       0          0        1                  0.45                7.97\n",
      "0      2       0          0        0                  0.44                7.90\n",
      "11    16       1          1        1                  0.41                9.13\n",
      "9     13       1          1        1                  0.39                8.68\n",
      "7     10       1          0        0                  0.38                8.45\n",
      "6     15       1          0        0                  0.38                8.38\n",
      "8     17       1          1        1                  0.38                8.54\n",
      "\n",
      "Overall Accuracy of prediction vs actual: 0.85\n"
     ]
    }
   ],
   "source": [
    "import pandas as pd\n",
    "from sklearn.model_selection import train_test_split\n",
    "from sklearn.neighbors import KNeighborsClassifier\n",
    "from sklearn.metrics import accuracy_score, confusion_matrix\n",
    "\n",
    "# Load the data\n",
    "team_final_overall = pd.read_csv('../data/basketballPlayoffs_model/team_final_overall.csv')\n",
    "playoffs_10th_year = pd.read_csv('../data/basketballPlayoffs_model/playoffs_10th_year.csv')\n",
    "\n",
    "# Merge the overall data with the playoff data\n",
    "data = pd.merge(team_final_overall, playoffs_10th_year, on='tmID', how='inner')\n",
    "\n",
    "# Split the data into predictor variables (overalls) and target variables (playoffs)\n",
    "X = data[['overall_team_final']]  # The predictor variable (team's overall average)\n",
    "y = data['playoff']  # The target variable (1 if the team made it to the playoffs, 0 otherwise)\n",
    "\n",
    "# Split into training and testing sets\n",
    "X_train, X_test, y_train, y_test = train_test_split(X, y, test_size=0.3, random_state=42)\n",
    "\n",
    "# Train the KNN model\n",
    "knn_model = KNeighborsClassifier(n_neighbors=3)  # Using 3 nearest neighbors\n",
    "knn_model.fit(X_train, y_train)\n",
    "\n",
    "# Make predictions for all teams (not just the test set)\n",
    "probabilities = knn_model.predict_proba(X)[:, 1]  # Probability of the team making the playoffs\n",
    "\n",
    "# Split the data into two conferences: confID == 1 and confID == 0\n",
    "conf_1_data = data[data['confID'] == 1]\n",
    "conf_0_data = data[data['confID'] == 0]\n",
    "\n",
    "# Normalize the probabilities within each conference\n",
    "conf_1_probabilities = (probabilities[conf_1_data.index] - probabilities[conf_1_data.index].min()) / (probabilities[conf_1_data.index].max() - probabilities[conf_1_data.index].min())  # Normalize between 0 and 1\n",
    "conf_0_probabilities = (probabilities[conf_0_data.index] - probabilities[conf_0_data.index].min()) / (probabilities[conf_0_data.index].max() - probabilities[conf_0_data.index].min())  # Normalize between 0 and 1\n",
    "\n",
    "# Adjust the probabilities so that their sum is equal to 8, separately for each conference\n",
    "conf_1_probability_sum = conf_1_probabilities.sum()\n",
    "conf_0_probability_sum = conf_0_probabilities.sum()\n",
    "\n",
    "# Adjust the probabilities so that the sum equals 8 within each conference\n",
    "adjusted_conf_1_probabilities = conf_1_probabilities * 8 / conf_1_probability_sum\n",
    "adjusted_conf_0_probabilities = conf_0_probabilities * 8 / conf_0_probability_sum\n",
    "\n",
    "# **Adjust probabilities based on the \"overall_team_final\"**\n",
    "# Calculate the probabilities directly based on \"overall_team_final\" for each conference\n",
    "conf_1_data = conf_1_data.copy()  # Create an explicit copy\n",
    "conf_0_data = conf_0_data.copy()  # Create an explicit copy\n",
    "\n",
    "conf_1_data['adjusted_probability'] = conf_1_data['overall_team_final'] / conf_1_data['overall_team_final'].max() / 2\n",
    "conf_0_data['adjusted_probability'] = conf_0_data['overall_team_final'] / conf_0_data['overall_team_final'].max() / 2\n",
    "\n",
    "conf_1_data['probability'] = adjusted_conf_1_probabilities\n",
    "conf_0_data['probability'] = adjusted_conf_0_probabilities\n",
    "\n",
    "conf_1_data['predicted'] = 0\n",
    "conf_0_data['predicted'] = 0\n",
    "\n",
    "# Add predictions to the dataset, considering the top 4 teams per conference\n",
    "for conf_data in [conf_1_data, conf_0_data]:\n",
    "    top_teams = conf_data.nlargest(4, 'overall_team_final')  # Select the top 4 teams\n",
    "    conf_data.loc[top_teams.index, 'predicted'] = 1  # Mark the top 4 teams as 1 (make the playoffs)\n",
    "\n",
    "# Concatenate the data from both conferences\n",
    "final_data = pd.concat([conf_1_data, conf_0_data])\n",
    "\n",
    "# Round the 'adjusted_probability' to 2 decimal places\n",
    "final_data['adjusted_probability'] = final_data['adjusted_probability'].round(2)\n",
    "\n",
    "# Sort the teams by adjusted_probability in descending order\n",
    "final_data_sorted = final_data.sort_values(by='adjusted_probability', ascending=False)\n",
    "\n",
    "# Display all teams and their adjusted probabilities, predictions, etc., sorted by adjusted_probability\n",
    "print(\"Final Table with Teams and their Adjusted Probabilities (Sorted by Probability):\")\n",
    "print(final_data_sorted[['tmID', 'confID', 'predicted', 'playoff', 'adjusted_probability', 'overall_team_final']])\n",
    "\n",
    "# Compute the overall accuracy (for all teams combined, not per conference)\n",
    "overall_accuracy = accuracy_score(final_data['playoff'], final_data['predicted'])\n",
    "\n",
    "print(f\"\\nOverall Accuracy of prediction vs actual: {overall_accuracy:.2f}\")\n"
   ]
  },
  {
   "cell_type": "markdown",
   "metadata": {},
   "source": [
    "## RFC (Random Forest Classifier)"
   ]
  },
  {
   "cell_type": "code",
   "execution_count": 115,
   "metadata": {},
   "outputs": [
    {
     "name": "stdout",
     "output_type": "stream",
     "text": [
      "Final Table with Teams and their Adjusted Probabilities (Sorted by Probability):\n",
      "    tmID  confID  predicted  playoff  adjusted_probability  overall_team_final\n",
      "12     8       1          1        1                  0.50               11.17\n",
      "10     5       0          1        1                  0.50                8.95\n",
      "3     19       0          1        1                  0.46                8.18\n",
      "4      7       0          1        1                  0.46                8.21\n",
      "5     11       0          1        0                  0.46                8.28\n",
      "2      4       0          0        0                  0.45                8.06\n",
      "1      0       0          0        1                  0.45                7.97\n",
      "0      2       0          0        0                  0.44                7.90\n",
      "11    16       1          1        1                  0.41                9.13\n",
      "9     13       1          1        1                  0.39                8.68\n",
      "7     10       1          0        0                  0.38                8.45\n",
      "6     15       1          0        0                  0.38                8.38\n",
      "8     17       1          1        1                  0.38                8.54\n",
      "\n",
      "Overall Accuracy of prediction vs actual: 0.85\n"
     ]
    }
   ],
   "source": [
    "import pandas as pd\n",
    "from sklearn.model_selection import train_test_split\n",
    "from sklearn.ensemble import RandomForestClassifier\n",
    "from sklearn.calibration import CalibratedClassifierCV\n",
    "from sklearn.metrics import accuracy_score, confusion_matrix\n",
    "\n",
    "# Load the data\n",
    "team_final_overall = pd.read_csv('../data/basketballPlayoffs_model/team_final_overall.csv')\n",
    "playoffs_10th_year = pd.read_csv('../data/basketballPlayoffs_model/playoffs_10th_year.csv')\n",
    "\n",
    "# Merge the overall data with the playoff data\n",
    "data = pd.merge(team_final_overall, playoffs_10th_year, on='tmID', how='inner')\n",
    "\n",
    "# Split the data into predictor variables (overalls) and target variables (playoffs)\n",
    "X = data[['overall_team_final']]  # The predictor variable (team's overall average)\n",
    "y = data['playoff']  # The target variable (1 if the team made it to the playoffs, 0 otherwise)\n",
    "\n",
    "# Split into training and testing sets\n",
    "X_train, X_test, y_train, y_test = train_test_split(X, y, test_size=0.3, random_state=42)\n",
    "\n",
    "# Train the Random Forest model\n",
    "rf_model = RandomForestClassifier(n_estimators=100, random_state=42)  # 100 trees in the forest\n",
    "rf_model.fit(X_train, y_train)\n",
    "\n",
    "# Use CalibratedClassifierCV to enable probability estimates\n",
    "calibrated_rf_model = CalibratedClassifierCV(rf_model, method='sigmoid', cv='prefit')\n",
    "calibrated_rf_model.fit(X_train, y_train)\n",
    "\n",
    "# Make probability predictions for all teams (not just the test set)\n",
    "probabilities = calibrated_rf_model.predict_proba(X)[:, 1]  # Probability of the team making the playoffs\n",
    "\n",
    "# Split the data into two conferences: confID == 1 and confID == 0\n",
    "conf_1_data = data[data['confID'] == 1]\n",
    "conf_0_data = data[data['confID'] == 0]\n",
    "\n",
    "# Normalize the probabilities within each conference\n",
    "conf_1_probabilities = (probabilities[conf_1_data.index] - probabilities[conf_1_data.index].min()) / (probabilities[conf_1_data.index].max() - probabilities[conf_1_data.index].min())  # Normalize between 0 and 1\n",
    "conf_0_probabilities = (probabilities[conf_0_data.index] - probabilities[conf_0_data.index].min()) / (probabilities[conf_0_data.index].max() - probabilities[conf_0_data.index].min())  # Normalize between 0 and 1\n",
    "\n",
    "# Adjust the probabilities so that their sum is equal to 8, separately for each conference\n",
    "conf_1_probability_sum = conf_1_probabilities.sum()\n",
    "conf_0_probability_sum = conf_0_probabilities.sum()\n",
    "\n",
    "# Adjust the probabilities so that the sum equals 8 within each conference\n",
    "adjusted_conf_1_probabilities = conf_1_probabilities * 8 / conf_1_probability_sum\n",
    "adjusted_conf_0_probabilities = conf_0_probabilities * 8 / conf_0_probability_sum\n",
    "\n",
    "# **Adjust probabilities based on the \"overall_team_final\"**\n",
    "# Calculate the probabilities directly based on \"overall_team_final\" for each conference\n",
    "conf_1_data = conf_1_data.copy()  # Create an explicit copy\n",
    "conf_0_data = conf_0_data.copy()  # Create an explicit copy\n",
    "\n",
    "conf_1_data['adjusted_probability'] = conf_1_data['overall_team_final'] / conf_1_data['overall_team_final'].max() / 2\n",
    "conf_0_data['adjusted_probability'] = conf_0_data['overall_team_final'] / conf_0_data['overall_team_final'].max() / 2\n",
    "\n",
    "conf_1_data['probability'] = adjusted_conf_1_probabilities\n",
    "conf_0_data['probability'] = adjusted_conf_0_probabilities\n",
    "\n",
    "conf_1_data['predicted'] = 0\n",
    "conf_0_data['predicted'] = 0\n",
    "\n",
    "# Add predictions to the dataset, considering the top 4 teams per conference\n",
    "for conf_data in [conf_1_data, conf_0_data]:\n",
    "    top_teams = conf_data.nlargest(4, 'overall_team_final')  # Select the top 4 teams\n",
    "    conf_data.loc[top_teams.index, 'predicted'] = 1  # Mark the top 4 teams as 1 (make the playoffs)\n",
    "\n",
    "# Concatenate the data from both conferences\n",
    "final_data = pd.concat([conf_1_data, conf_0_data])\n",
    "\n",
    "# Round the 'adjusted_probability' to 2 decimal places\n",
    "final_data['adjusted_probability'] = final_data['adjusted_probability'].round(2)\n",
    "\n",
    "# Sort the teams by adjusted_probability in descending order\n",
    "final_data_sorted = final_data.sort_values(by='adjusted_probability', ascending=False)\n",
    "\n",
    "# Display all teams and their adjusted probabilities, predictions, etc., sorted by adjusted_probability\n",
    "print(\"Final Table with Teams and their Adjusted Probabilities (Sorted by Probability):\")\n",
    "print(final_data_sorted[['tmID', 'confID', 'predicted', 'playoff', 'adjusted_probability', 'overall_team_final']])\n",
    "\n",
    "# Compute the overall accuracy (for all teams combined, not per conference)\n",
    "overall_accuracy = accuracy_score(final_data['playoff'], final_data['predicted'])\n",
    "\n",
    "print(f\"\\nOverall Accuracy of prediction vs actual: {overall_accuracy:.2f}\")\n"
   ]
  }
 ],
 "metadata": {
  "kernelspec": {
   "display_name": "Python 3",
   "language": "python",
   "name": "python3"
  },
  "language_info": {
   "codemirror_mode": {
    "name": "ipython",
    "version": 3
   },
   "file_extension": ".py",
   "mimetype": "text/x-python",
   "name": "python",
   "nbconvert_exporter": "python",
   "pygments_lexer": "ipython3",
   "version": "3.12.3"
  }
 },
 "nbformat": 4,
 "nbformat_minor": 2
}
