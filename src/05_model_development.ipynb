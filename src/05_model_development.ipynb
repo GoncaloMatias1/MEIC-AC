{
 "cells": [
  {
   "cell_type": "markdown",
   "metadata": {},
   "source": [
    "# Imports"
   ]
  },
  {
   "cell_type": "code",
   "execution_count": 141,
   "metadata": {},
   "outputs": [],
   "source": [
    "import pandas as pd\n",
    "import numpy as np\n",
    "import matplotlib.pyplot as plt\n",
    "import seaborn as sns\n",
    "import os\n",
    "\n",
    "awards_players_cleaned = pd.read_csv('../data/basketballPlayoffs_cleaned/awards_players_cleaned.csv')\n",
    "coaches_cleaned = pd.read_csv('../data/basketballPlayoffs_cleaned/coaches_cleaned.csv')\n",
    "players_cleaned = pd.read_csv('../data/basketballPlayoffs_cleaned/players_cleaned.csv')\n",
    "players_teams_cleaned = pd.read_csv('../data/basketballPlayoffs_cleaned/players_teams_cleaned.csv')\n",
    "series_post_cleaned = pd.read_csv('../data/basketballPlayoffs_cleaned/series_post_cleaned.csv')\n",
    "teams_cleaned = pd.read_csv('../data/basketballPlayoffs_cleaned/teams_cleaned.csv')\n",
    "teams_post_cleaned = pd.read_csv('../data/basketballPlayoffs_cleaned/teams_post_cleaned.csv')"
   ]
  },
  {
   "cell_type": "markdown",
   "metadata": {},
   "source": [
    "# Obtain data from only 9 years"
   ]
  },
  {
   "cell_type": "code",
   "execution_count": 142,
   "metadata": {},
   "outputs": [],
   "source": [
    "awards_players_model = awards_players_cleaned[awards_players_cleaned['year'] != 10]\n",
    "coaches_model = coaches_cleaned[coaches_cleaned['year'] != 10]\n",
    "players_teams_model = players_teams_cleaned[players_teams_cleaned['year'] != 10]\n",
    "series_post_model = series_post_cleaned[series_post_cleaned['year'] != 10]\n",
    "teams_model = teams_cleaned[teams_cleaned['year'] != 10]\n",
    "teams_post_model = teams_post_cleaned[teams_post_cleaned['year'] != 10]\n",
    "\n",
    "os.makedirs('../data/basketballPlayoffs_model', exist_ok=True)\n",
    "\n",
    "for df, name in [(awards_players_model, 'awards'), \n",
    "                 (coaches_model, 'coaches'),\n",
    "                 (players_teams_model, 'players'),\n",
    "                 (series_post_model, 'series'),\n",
    "                 (teams_model, 'teams'),\n",
    "                 (teams_post_model, 'teams_post')]:\n",
    "    if df['year'].max() != 9:\n",
    "        print(f\"Warning: {name} contains data beyond year 9\")\n",
    "\n",
    "awards_players_model.to_csv('../data/basketballPlayoffs_model/awards_players_model.csv', index=False)\n",
    "coaches_model.to_csv('../data/basketballPlayoffs_model/coaches_model.csv', index=False)\n",
    "players_cleaned.to_csv('../data/basketballPlayoffs_model/players_model.csv', index=False)\n",
    "players_teams_model.to_csv('../data/basketballPlayoffs_model/players_teams_model.csv', index=False)\n",
    "series_post_model.to_csv('../data/basketballPlayoffs_model/series_post_model.csv', index=False)\n",
    "teams_model.to_csv('../data/basketballPlayoffs_model/teams_model.csv', index=False)\n",
    "teams_post_model.to_csv('../data/basketballPlayoffs_model/teams_post_model.csv', index=False)"
   ]
  },
  {
   "cell_type": "markdown",
   "metadata": {},
   "source": [
    "# Overalls from only 9 years"
   ]
  },
  {
   "cell_type": "code",
   "execution_count": 143,
   "metadata": {},
   "outputs": [],
   "source": [
    "players_overall_avg = players_teams_model.groupby('playerID')['OVERALL'].mean().reset_index()\n",
    "\n",
    "players_overall_avg.rename(columns={'OVERALL': 'OVERALL_ALL_TIME'}, inplace=True)\n",
    "\n",
    "players_overall_avg['OVERALL_ALL_TIME'] = players_overall_avg['OVERALL_ALL_TIME'].round(1)\n",
    "\n",
    "players_overall_avg.to_csv('../data/basketballPlayoffs_model/players_overall_all_time_model.csv', index=False)"
   ]
  },
  {
   "cell_type": "code",
   "execution_count": 144,
   "metadata": {},
   "outputs": [],
   "source": [
    "rookie_players = players_teams_model[players_teams_model['is_rookie'] == 1]\n",
    "\n",
    "rookie_overall_avg = rookie_players['OVERALL'].mean().round(1)\n",
    "\n",
    "rookie_overall_avg_df = pd.DataFrame({'rookie_overall_avg': [rookie_overall_avg]})\n",
    "\n",
    "rookie_overall_avg_df.to_csv('../data/basketballPlayoffs_model/rookie_overall_avg_model.csv', index=False)"
   ]
  },
  {
   "cell_type": "code",
   "execution_count": 145,
   "metadata": {},
   "outputs": [],
   "source": [
    "rookie_coaches = coaches_model[coaches_model['is_rookie'] == 1]\n",
    "\n",
    "rookie_overall_coaches_avg = rookie_coaches['OVERALL'].mean().round(1)\n",
    "\n",
    "rookie_overall_coaches_avg_df = pd.DataFrame({'rookie_overall_coaches_avg': [rookie_overall_coaches_avg]})\n",
    "\n",
    "rookie_overall_coaches_avg_df.to_csv('../data/basketballPlayoffs_model/rookie_overall_coaches_avg_model.csv', index=False)"
   ]
  },
  {
   "cell_type": "code",
   "execution_count": 146,
   "metadata": {},
   "outputs": [],
   "source": [
    "coaches_overall_avg = coaches_model.groupby('coachID')['OVERALL'].mean().reset_index()\n",
    "\n",
    "coaches_overall_avg.rename(columns={'OVERALL': 'OVERALL_ALL_TIME'}, inplace=True)\n",
    "\n",
    "coaches_overall_avg['OVERALL_ALL_TIME'] = coaches_overall_avg['OVERALL_ALL_TIME'].round(1)\n",
    "\n",
    "coaches_overall_avg.to_csv('../data/basketballPlayoffs_model/coaches_overall_all_time_model.csv', index=False)"
   ]
  },
  {
   "cell_type": "markdown",
   "metadata": {},
   "source": [
    "# Obtain ranks from the 10th year to compare"
   ]
  },
  {
   "cell_type": "code",
   "execution_count": 147,
   "metadata": {},
   "outputs": [],
   "source": [
    "playoffs_10th_year = teams_cleaned[teams_cleaned['year'] == 10][['tmID', 'playoff']]\n",
    "\n",
    "playoffs_10th_year.to_csv('../data/basketballPlayoffs_model/playoffs_10th_year.csv', index=False)"
   ]
  },
  {
   "cell_type": "markdown",
   "metadata": {},
   "source": [
    "# Obtain teams line up and coach from the 10th year"
   ]
  },
  {
   "cell_type": "code",
   "execution_count": 148,
   "metadata": {},
   "outputs": [],
   "source": [
    "coaches_model_10th_year = coaches_cleaned[coaches_cleaned['year'] == 10][['coachID', 'tmID',]]\n",
    "\n",
    "coaches_model_10th_year.to_csv('../data/basketballPlayoffs_model/coaches_model_10th_year.csv', index=False)"
   ]
  },
  {
   "cell_type": "code",
   "execution_count": 149,
   "metadata": {},
   "outputs": [],
   "source": [
    "players_model_10th_year = players_teams_cleaned[players_teams_cleaned['year'] == 10][['playerID','tmID']]\n",
    "\n",
    "players_model_10th_year = players_model_10th_year.sort_values(by='tmID')\n",
    "\n",
    "players_model_10th_year.to_csv('../data/basketballPlayoffs_model/players_model_10th_year.csv', index=False)"
   ]
  },
  {
   "cell_type": "markdown",
   "metadata": {},
   "source": [
    "# Add overalls calculated from 9 years to the 10th year players and coach"
   ]
  },
  {
   "cell_type": "code",
   "execution_count": 150,
   "metadata": {},
   "outputs": [],
   "source": [
    "players_model_10th_year = pd.read_csv('../data/basketballPlayoffs_model/players_model_10th_year.csv')\n",
    "players_overall_all_time_model = pd.read_csv('../data/basketballPlayoffs_model/players_overall_all_time_model.csv')\n",
    "\n",
    "rookie_avg = 5.6 \n",
    "\n",
    "players_model_10th_year = players_model_10th_year.merge(\n",
    "    players_overall_all_time_model[['playerID', 'OVERALL_ALL_TIME']],\n",
    "    on='playerID',\n",
    "    how='left'\n",
    ").fillna({'OVERALL_ALL_TIME': rookie_avg})\n",
    "\n",
    "players_model_10th_year.rename(columns={'OVERALL_ALL_TIME': 'OVERALL'}, inplace=True)\n",
    "\n",
    "players_model_10th_year.to_csv('../data/basketballPlayoffs_model/players_model_10th_year.csv', index=False)"
   ]
  },
  {
   "cell_type": "code",
   "execution_count": 151,
   "metadata": {},
   "outputs": [],
   "source": [
    "coaches_model_10th_year = pd.read_csv('../data/basketballPlayoffs_model/coaches_model_10th_year.csv')\n",
    "coaches_overall_all_time_model = pd.read_csv('../data/basketballPlayoffs_model/coaches_overall_all_time_model.csv')\n",
    "\n",
    "rookie_avg_coach = 8.9 \n",
    "\n",
    "coaches_model_10th_year = coaches_model_10th_year.merge(\n",
    "    coaches_overall_all_time_model[['coachID', 'OVERALL_ALL_TIME']],\n",
    "    on='coachID',\n",
    "    how='left'\n",
    ").fillna({'OVERALL_ALL_TIME': rookie_avg_coach})\n",
    "\n",
    "coaches_model_10th_year.rename(columns={'OVERALL_ALL_TIME': 'OVERALL'}, inplace=True)\n",
    "\n",
    "coaches_model_10th_year.to_csv('../data/basketballPlayoffs_model/coaches_model_10th_year.csv', index=False)\n"
   ]
  },
  {
   "cell_type": "markdown",
   "metadata": {},
   "source": [
    "# Given the teams players composition and their respective overalls calculate the team overall (mean of all players)"
   ]
  },
  {
   "cell_type": "code",
   "execution_count": 152,
   "metadata": {},
   "outputs": [],
   "source": [
    "players_model_10th_year = pd.read_csv('../data/basketballPlayoffs_model/players_model_10th_year.csv')\n",
    "\n",
    "team_overall = players_model_10th_year.groupby('tmID')['OVERALL'].mean().reset_index()\n",
    "\n",
    "team_overall['overall_team'] = team_overall['OVERALL'].round(1)\n",
    "\n",
    "team_overall = team_overall.drop(columns=['OVERALL'])\n",
    "\n",
    "team_overall.to_csv('../data/basketballPlayoffs_model/team_overall.csv', index=False)"
   ]
  },
  {
   "cell_type": "markdown",
   "metadata": {},
   "source": [
    "# Given the team coaches and their respective overalls calculate the coach overall (mean of all coaches(1 or more than 1))"
   ]
  },
  {
   "cell_type": "code",
   "execution_count": 153,
   "metadata": {},
   "outputs": [],
   "source": [
    "coaches_model_10th_year = pd.read_csv('../data/basketballPlayoffs_model/coaches_model_10th_year.csv')\n",
    "\n",
    "team_overall_coaches = coaches_model_10th_year.groupby('tmID')['OVERALL'].mean().reset_index()\n",
    "\n",
    "team_overall_coaches['overall_team_coach'] = team_overall_coaches['OVERALL'].round(1)\n",
    "\n",
    "team_overall_coaches = team_overall_coaches.drop(columns=['OVERALL'])\n",
    "\n",
    "team_overall_coaches.to_csv('../data/basketballPlayoffs_model/team_overall_coaches.csv', index=False)"
   ]
  },
  {
   "cell_type": "markdown",
   "metadata": {},
   "source": [
    "# Models"
   ]
  },
  {
   "cell_type": "code",
   "execution_count": 154,
   "metadata": {},
   "outputs": [
    {
     "name": "stdout",
     "output_type": "stream",
     "text": [
      "Preparing training data...\n",
      "Preparing validation data...\n",
      "Preparing test data...\n",
      "\n",
      "Model Performance:\n",
      "-----------------\n",
      "\n",
      "SVM:\n",
      "Validation Accuracy (Year 9): 71.43%\n",
      "Test Accuracy (Year 10): 62.50%\n",
      "Predicted playoff teams: [7, 5, 11, 4, 17, 8, 16, 15]\n",
      "Actual playoff teams: [0, 5, 7, 8, 13, 16, 17, 19]\n",
      "\n",
      "Random Forest:\n",
      "Validation Accuracy (Year 9): 92.86%\n",
      "Test Accuracy (Year 10): 75.00%\n",
      "Predicted playoff teams: [7, 5, 4, 11, 17, 8, 16, 13]\n",
      "Actual playoff teams: [0, 5, 7, 8, 13, 16, 17, 19]\n",
      "\n",
      "Logistic Regression:\n",
      "Validation Accuracy (Year 9): 78.57%\n",
      "Test Accuracy (Year 10): 75.00%\n",
      "Predicted playoff teams: [5, 19, 7, 4, 8, 13, 15, 16]\n",
      "Actual playoff teams: [0, 5, 7, 8, 13, 16, 17, 19]\n",
      "\n",
      "Best Model: Random Forest\n",
      "Validation Accuracy: 92.86%\n",
      "Test Accuracy: 75.00%\n"
     ]
    },
    {
     "data": {
      "image/png": "[encoded data removed]",
      "text/plain": [
       "<Figure size 1200x600 with 1 Axes>"
      ]
     },
     "metadata": {},
     "output_type": "display_data"
    }
   ],
   "source": [
    "# Import ML libraries\n",
    "from sklearn.model_selection import train_test_split\n",
    "from sklearn.preprocessing import StandardScaler\n",
    "from sklearn.svm import SVC\n",
    "from sklearn.ensemble import RandomForestClassifier\n",
    "from sklearn.metrics import accuracy_score, classification_report, confusion_matrix\n",
    "from sklearn.linear_model import LogisticRegression\n",
    "\n",
    "def create_features_for_team(team_data, teams_history, players_teams_data, coaches_data, year):\n",
    "    features = {\n",
    "        'won': team_data['won'],\n",
    "        'lost': team_data['lost'],\n",
    "        'o_pts': team_data['o_pts'],\n",
    "        'd_pts': team_data['d_pts'],\n",
    "        'o_reb': team_data['o_reb'],\n",
    "        'd_reb': team_data['d_reb'],\n",
    "        'confID': team_data['confID']\n",
    "    }\n",
    "    \n",
    "    # Calculate historical averages\n",
    "    team_history_data = teams_history[\n",
    "        (teams_history['tmID'] == team_data['tmID']) & \n",
    "        (teams_history['year'] <= year)\n",
    "    ].sort_values('year')\n",
    "    \n",
    "    # 3-year rolling averages\n",
    "    features['win_rate_3yr'] = team_history_data['won'].tail(3).mean()\n",
    "    features['playoff_rate_3yr'] = team_history_data['playoff'].tail(3).mean()\n",
    "    features['points_diff_3yr'] = (team_history_data['o_pts'] - team_history_data['d_pts']).tail(3).mean()\n",
    "    \n",
    "    # Player stats\n",
    "    team_players = players_teams_data[\n",
    "        (players_teams_data['year'] == year) & \n",
    "        (players_teams_data['tmID'] == team_data['tmID'])\n",
    "    ]\n",
    "    features['player_overall_avg'] = team_players['OVERALL'].mean()\n",
    "    features['player_stamina_avg'] = team_players['overallSTAMINA'].mean()\n",
    "    features['player_defense_avg'] = team_players['overallDEFENSE'].mean()\n",
    "    features['player_offense_avg'] = team_players['overallOFFENSE'].mean()\n",
    "    \n",
    "    # Coach stats\n",
    "    team_coach = coaches_data[\n",
    "        (coaches_data['year'] == year) & \n",
    "        (coaches_data['tmID'] == team_data['tmID'])\n",
    "    ]\n",
    "    features['coach_overall'] = team_coach['OVERALL'].mean() if len(team_coach) > 0 else 0\n",
    "    \n",
    "    return list(features.values())\n",
    "\n",
    "# Prepare training data (years 1-8)\n",
    "print(\"Preparing training data...\")\n",
    "X_train = []\n",
    "y_train = []\n",
    "\n",
    "for year in range(1, 9):\n",
    "    current_year_teams = teams_model[teams_model['year'] == year]\n",
    "    next_year_teams = teams_model[teams_model['year'] == year + 1]\n",
    "    \n",
    "    for _, team in current_year_teams.iterrows():\n",
    "        # Only include teams that exist in the next year\n",
    "        if team['tmID'] in next_year_teams['tmID'].values:\n",
    "            features = create_features_for_team(team, teams_model, players_teams_model, coaches_model, year)\n",
    "            X_train.append(features)\n",
    "            \n",
    "            # Get next year's playoff status\n",
    "            next_year_playoff = next_year_teams[next_year_teams['tmID'] == team['tmID']]['playoff'].iloc[0]\n",
    "            y_train.append(next_year_playoff)\n",
    "\n",
    "X_train = np.array(X_train)\n",
    "y_train = np.array(y_train)\n",
    "\n",
    "# Prepare validation data (year 9)\n",
    "print(\"Preparing validation data...\")\n",
    "X_val = []\n",
    "y_val = []\n",
    "\n",
    "year_9_teams = teams_model[teams_model['year'] == 9]\n",
    "for _, team in year_9_teams.iterrows():\n",
    "    features = create_features_for_team(team, teams_model, players_teams_model, coaches_model, 9)\n",
    "    X_val.append(features)\n",
    "    y_val.append(team['playoff'])\n",
    "\n",
    "X_val = np.array(X_val)\n",
    "y_val = np.array(y_val)\n",
    "\n",
    "# Prepare test data (year 10)\n",
    "print(\"Preparing test data...\")\n",
    "X_test = []\n",
    "year_10_teams = teams_cleaned[teams_cleaned['year'] == 10]\n",
    "for _, team in year_10_teams.iterrows():\n",
    "    features = create_features_for_team(team, teams_cleaned, players_teams_cleaned, coaches_cleaned, 10)\n",
    "    X_test.append(features)\n",
    "\n",
    "X_test = np.array(X_test)\n",
    "\n",
    "# Scale features\n",
    "scaler = StandardScaler()\n",
    "X_train_scaled = scaler.fit_transform(X_train)\n",
    "X_val_scaled = scaler.transform(X_val)\n",
    "X_test_scaled = scaler.transform(X_test)\n",
    "\n",
    "# Initialize models\n",
    "models = {\n",
    "    'SVM': SVC(kernel='rbf', probability=True, C=1.0, random_state=42),\n",
    "    'Random Forest': RandomForestClassifier(n_estimators=200, max_depth=10, random_state=42),\n",
    "    'Logistic Regression': LogisticRegression(C=1.0, max_iter=1000, random_state=42)\n",
    "}\n",
    "\n",
    "# Train and evaluate models\n",
    "model_predictions = {}\n",
    "print(\"\\nModel Performance:\")\n",
    "print(\"-----------------\")\n",
    "\n",
    "for name, model in models.items():\n",
    "    # Train model on years 1-8\n",
    "    model.fit(X_train_scaled, y_train)\n",
    "    \n",
    "    # Validate on year 9\n",
    "    y_val_pred = model.predict(X_val_scaled)\n",
    "    val_accuracy = accuracy_score(y_val, y_val_pred) * 100\n",
    "    \n",
    "    print(f\"\\n{name}:\")\n",
    "    print(f\"Validation Accuracy (Year 9): {val_accuracy:.2f}%\")\n",
    "    \n",
    "    # Make predictions for year 10\n",
    "    probs = model.predict_proba(X_test_scaled)[:, 1]\n",
    "    \n",
    "    # Create DataFrame with predictions\n",
    "    pred_df = pd.DataFrame({\n",
    "        'tmID': year_10_teams['tmID'],\n",
    "        'confID': year_10_teams['confID'],\n",
    "        'playoff_prob': probs\n",
    "    })\n",
    "    \n",
    "    # Select top 4 teams from each conference\n",
    "    predictions = []\n",
    "    for conf in [0, 1]:  # Eastern and Western conferences\n",
    "        conf_teams = pred_df[pred_df['confID'] == conf].nlargest(4, 'playoff_prob')\n",
    "        predictions.extend(conf_teams['tmID'].tolist())\n",
    "    \n",
    "    # Calculate accuracy for year 10\n",
    "    actual_playoff_teams = playoffs_10th_year[playoffs_10th_year['playoff'] == 1]['tmID'].tolist()\n",
    "    correct = len(set(predictions) & set(actual_playoff_teams))\n",
    "    test_accuracy = (correct / len(predictions)) * 100\n",
    "    \n",
    "    print(f\"Test Accuracy (Year 10): {test_accuracy:.2f}%\")\n",
    "    print(\"Predicted playoff teams:\", predictions)\n",
    "    print(\"Actual playoff teams:\", actual_playoff_teams)\n",
    "    \n",
    "    # Store predictions\n",
    "    model_predictions[name] = {\n",
    "        'validation_accuracy': val_accuracy,\n",
    "        'test_accuracy': test_accuracy,\n",
    "        'predictions': predictions,\n",
    "        'prediction_probabilities': dict(zip(year_10_teams['tmID'], probs))\n",
    "    }\n",
    "\n",
    "# Identify best model based on validation accuracy\n",
    "best_model = max(model_predictions.items(), key=lambda x: x[1]['validation_accuracy'])\n",
    "print(f\"\\nBest Model: {best_model[0]}\")\n",
    "print(f\"Validation Accuracy: {best_model[1]['validation_accuracy']:.2f}%\")\n",
    "print(f\"Test Accuracy: {best_model[1]['test_accuracy']:.2f}%\")\n",
    "\n",
    "# Save results and feature importance for Random Forest\n",
    "rf_model = models['Random Forest']\n",
    "feature_names = ['won', 'lost', 'o_pts', 'd_pts', 'o_reb', 'd_reb', 'confID', \n",
    "                'win_rate_3yr', 'playoff_rate_3yr', 'points_diff_3yr',\n",
    "                'player_overall_avg', 'player_stamina_avg', 'player_defense_avg', \n",
    "                'player_offense_avg', 'coach_overall']\n",
    "\n",
    "feature_importance = pd.DataFrame({\n",
    "    'feature': feature_names,\n",
    "    'importance': rf_model.feature_importances_\n",
    "}).sort_values('importance', ascending=False)\n",
    "\n",
    "# Save results\n",
    "results = {\n",
    "    'model_predictions': model_predictions,\n",
    "    'best_model': {\n",
    "        'name': best_model[0],\n",
    "        'validation_accuracy': best_model[1]['validation_accuracy'],\n",
    "        'test_accuracy': best_model[1]['test_accuracy'],\n",
    "        'predictions': best_model[1]['predictions']\n",
    "    }\n",
    "}\n",
    "\n",
    "pd.DataFrame([results]).to_csv('../data/basketballPlayoffs_model/ml_model_results.csv', index=False)\n",
    "feature_importance.to_csv('../data/basketballPlayoffs_model/feature_importance.csv', index=False)\n",
    "\n",
    "# Plot feature importance\n",
    "plt.figure(figsize=(12, 6))\n",
    "sns.barplot(x='importance', y='feature', data=feature_importance)\n",
    "plt.title('Feature Importance in Playoff Prediction')\n",
    "plt.tight_layout()\n",
    "plt.show()"
   ]
  },
  {
   "cell_type": "markdown",
   "metadata": {},
   "source": [
    "# Accuracy"
   ]
  },
  {
   "cell_type": "code",
   "execution_count": 155,
   "metadata": {},
   "outputs": [
    {
     "name": "stdout",
     "output_type": "stream",
     "text": [
      "Teams that go to the playoffs acording to the previsions:\n",
      "\n",
      "    tmID  confID  overall_team_final\n",
      "12     5       0               16.54\n",
      "11     4       0               15.88\n",
      "10    16       1               14.88\n",
      "9      8       1               13.44\n",
      "8     17       1               12.50\n",
      "7     10       1                9.24\n",
      "6     11       0                9.21\n",
      "5      7       0                8.79\n",
      "\n",
      "Teams that are in the playoffs and in the previsions:\n",
      "\n",
      "   tmID  confID  overall_team_final  playoff\n",
      "0     5       0               16.54        1\n",
      "2    16       1               14.88        1\n",
      "3     8       1               13.44        1\n",
      "4    17       1               12.50        1\n",
      "7     7       0                8.79        1\n",
      "\n",
      "The accuracy is 62.50%\n"
     ]
    }
   ],
   "source": [
    "team_final_overall = pd.read_csv('../data/basketballPlayoffs_model/team_final_overall.csv')\n",
    "playoffs_10th_year = pd.read_csv('../data/basketballPlayoffs_model/playoffs_10th_year.csv')\n",
    "\n",
    "top_teams_by_conf = team_final_overall.sort_values(by='overall_team_final', ascending=False).groupby('confID').head(4)\n",
    "\n",
    "print(\"Teams that go to the playoffs acording to the previsions:\\n\")\n",
    "print(top_teams_by_conf)\n",
    "\n",
    "comparison = top_teams_by_conf.merge(playoffs_10th_year, on='tmID', how='left')\n",
    "\n",
    "correct_predictions = comparison[comparison['playoff'] == 1]\n",
    "\n",
    "print(\"\\nTeams that are in the playoffs and in the previsions:\\n\")\n",
    "print(correct_predictions)\n",
    "\n",
    "accuracy = len(correct_predictions) / len(top_teams_by_conf) * 100\n",
    "print(f\"\\nThe accuracy is {accuracy:.2f}%\")\n"
   ]
  }
 ],
 "metadata": {
  "kernelspec": {
   "display_name": "Python 3",
   "language": "python",
   "name": "python3"
  },
  "language_info": {
   "codemirror_mode": {
    "name": "ipython",
    "version": 3
   },
   "file_extension": ".py",
   "mimetype": "text/x-python",
   "name": "python",
   "nbconvert_exporter": "python",
   "pygments_lexer": "ipython3",
   "version": "3.9.6"
  }
 },
 "nbformat": 4,
 "nbformat_minor": 2
}
