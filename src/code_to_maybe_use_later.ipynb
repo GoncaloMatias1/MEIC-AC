{
 "cells": [
  {
   "cell_type": "markdown",
   "metadata": {},
   "source": [
    "### 2.4 Overall Efficiency Rating\n",
    "\n",
    "The `calculate_efficiency_rating` function measures how efficiently players perform in terms of shooting. "
   ]
  },
  {
   "cell_type": "code",
   "execution_count": null,
   "metadata": {},
   "outputs": [],
   "source": [
    "# # Efficiency Rating\n",
    "# def calculate_efficiency_rating(df):\n",
    "#     # Calculate field goal, free throw, and three-point percentages\n",
    "#     df['FG_percentage'] = df['fgMade'] / df['fgAttempted']\n",
    "#     df['FT_percentage'] = df['ftMade'] / df['ftAttempted']\n",
    "#     df['3P_percentage'] = df['threeMade'] / df['threeAttempted']\n",
    "    \n",
    "#     # Calculate Efficiency Rating as a weighted average\n",
    "#     df['EfficiencyRating'] = (\n",
    "#         0.5 * df['FG_percentage'].fillna(0) + \n",
    "#         0.3 * df['FT_percentage'].fillna(0) + \n",
    "#         0.2 * df['3P_percentage'].fillna(0)\n",
    "#     ) * 10  # Scaling to a 1-10 range\n",
    "#     df['EfficiencyRating'] = df['EfficiencyRating'].round(1)\n",
    "    \n",
    "#     # Clip to ensure values remain within the desired range\n",
    "#     df['EfficiencyRating'] = np.clip(df['EfficiencyRating'], 1, 10)\n",
    "#     return df\n",
    "\n",
    "# # Apply efficiency rating to the dataframe\n",
    "# players_teams_cleaned = calculate_efficiency_rating(players_teams_cleaned)"
   ]
  },
  {
   "cell_type": "markdown",
   "metadata": {},
   "source": [
    "### 2.5 Overall Impact Score\n",
    "\n",
    "The `calculate_impact_score` function combines Overall Defense and Overall Offense scores to gauge each player’s all-around contribution."
   ]
  },
  {
   "cell_type": "code",
   "execution_count": null,
   "metadata": {},
   "outputs": [],
   "source": [
    "# # Impact Score\n",
    "# def calculate_impact_score(df):\n",
    "#     df['ImpactScore'] = (df['overallOFFENSE'] + df['overallDEFENSE']) / 2\n",
    "#     df['ImpactScore'] = np.clip(df['ImpactScore'], 1, 10)\n",
    "#     return df\n",
    "\n",
    "# # Apply impact score to the dataframe\n",
    "# players_teams_cleaned = calculate_impact_score(players_teams_cleaned)"
   ]
  },
  {
   "cell_type": "markdown",
   "metadata": {},
   "source": [
    "### 2.6 Overall Experience Factor\n",
    "\n",
    "The `calculate_experience` function represents the experience level of each player based on the number of seasons played."
   ]
  },
  {
   "cell_type": "code",
   "execution_count": null,
   "metadata": {},
   "outputs": [],
   "source": [
    "# def calculate_experience(df):\n",
    "#     # Group by playerID and calculate the number of unique years (seasons played) for each player\n",
    "#     experience_df = df.groupby('playerID').agg(\n",
    "#         seasons_played=('year', 'nunique'),\n",
    "#         total_games=('GP', 'sum')\n",
    "#     ).reset_index()\n",
    "\n",
    "#     # Normalize experience factor based on seasons and games played\n",
    "#     max_seasons = experience_df['seasons_played'].max()\n",
    "#     max_games = experience_df['total_games'].max()\n",
    "    \n",
    "#     experience_df['ExperienceFactor'] = (\n",
    "#         (0.5 * (experience_df['seasons_played'] / max_seasons)) +\n",
    "#         (0.5 * (experience_df['total_games'] / max_games))\n",
    "#     ) * 10  # Scale to a 1-10 range\n",
    "    \n",
    "#     # Merge back with original data\n",
    "#     df = df.merge(experience_df[['playerID', 'ExperienceFactor']], on='playerID', how='left')\n",
    "#     df['ExperienceFactor'] = df['ExperienceFactor'].round(1)  # Optional rounding\n",
    "    \n",
    "#     return df\n",
    "\n",
    "# # Apply the experience calculation to the DataFrame\n",
    "# players_teams_cleaned = calculate_experience(players_teams_cleaned)"
   ]
  }
 ],
 "metadata": {
  "kernelspec": {
   "display_name": "Python 3",
   "language": "python",
   "name": "python3"
  },
  "language_info": {
   "name": "python",
   "version": "3.12.3"
  }
 },
 "nbformat": 4,
 "nbformat_minor": 2
}
