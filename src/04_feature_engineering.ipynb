{
 "cells": [
  {
   "cell_type": "markdown",
   "metadata": {},
   "source": [
    "# **IV Feature Engineering**\n",
    "\n",
    "## **IV.1 Import Libraries and Load Data**"
   ]
  },
  {
   "cell_type": "code",
   "execution_count": 38,
   "metadata": {},
   "outputs": [],
   "source": [
    "import pandas as pd\n",
    "import numpy as np\n",
    "import matplotlib.pyplot as plt\n",
    "import seaborn as sns\n",
    "import os\n",
    "\n",
    "awards_players_cleaned = pd.read_csv('../data/basketballPlayoffs_cleaned/awards_players_cleaned.csv')\n",
    "coaches_cleaned = pd.read_csv('../data/basketballPlayoffs_cleaned/coaches_cleaned.csv')\n",
    "players_cleaned = pd.read_csv('../data/basketballPlayoffs_cleaned/players_cleaned.csv')\n",
    "players_teams_cleaned = pd.read_csv('../data/basketballPlayoffs_cleaned/players_teams_cleaned.csv')\n",
    "series_post_cleaned = pd.read_csv('../data/basketballPlayoffs_cleaned/series_post_cleaned.csv')\n",
    "teams_cleaned = pd.read_csv('../data/basketballPlayoffs_cleaned/teams_cleaned.csv')\n",
    "teams_post_cleaned = pd.read_csv('../data/basketballPlayoffs_cleaned/teams_post_cleaned.csv')"
   ]
  },
  {
   "cell_type": "markdown",
   "metadata": {},
   "source": [
    "## **IV.2 Players Overall Calculation**\n",
    "### **IV.2.1 Stamina Overall Calculation**\n",
    "\n",
    "In this section, we calculate the \"Stamina\" overall for each player. Stamina is a composite metric based on the number of games played and the total minutes played. The formula combines both game participation and total playing time, weighted differently, to create a stamina score on a scale of 1 to 10.\n",
    "\n",
    "The formula applies a weight of 20% to games played and 80% to minutes played, and normalizes the values by the mean number of games and minutes across all players."
   ]
  },
  {
   "cell_type": "code",
   "execution_count": 39,
   "metadata": {},
   "outputs": [],
   "source": [
    "def calculate_stamina(df):\n",
    "    total_games = df['GP'].sum() + df['PostGP'].sum()\n",
    "    total_minutes = df['minutes'].sum() + df['PostMinutes'].sum()\n",
    "\n",
    "    mean_games = total_games / len(df)\n",
    "    mean_minutes = total_minutes / len(df)\n",
    "\n",
    "    overall_stamina = (\n",
    "        (0.2 * (df['GP'] + df['PostGP']) / mean_games) + \n",
    "        (0.8 * (df['minutes'] + df['PostMinutes']) / mean_minutes)\n",
    "    )\n",
    "\n",
    "    overall_stamina = np.clip(overall_stamina * 5, 1, 10)\n",
    "    return overall_stamina.round(1)\n",
    "\n",
    "players_teams_cleaned['overallSTAMINA'] = calculate_stamina(players_teams_cleaned)\n"
   ]
  },
  {
   "cell_type": "markdown",
   "metadata": {},
   "source": [
    "### **IV.2.2 Defense Overall Calculation**\n",
    "\n",
    "This section calculates the \"Defense\" overall for each player based on their defensive performance metrics. The calculation considers a variety of factors including defensive rebounds, steals, blocks, turnovers, personal fouls (PF), and disqualifications (DQ). The formula is designed to reward players for positive defensive actions while penalizing them for turnovers, fouls, and disqualifications.\n",
    "\n",
    "The formula applies different weights to each factor based on its importance in defense:\n",
    "- 45% weight on defensive rebounds\n",
    "- 20% weight on steals and blocks\n",
    "- -5% penalty for turnovers, fouls, and disqualifications\n",
    "\n",
    "Each player's defensive score is then scaled to a range between 1 and 10.\n"
   ]
  },
  {
   "cell_type": "code",
   "execution_count": 40,
   "metadata": {},
   "outputs": [],
   "source": [
    "def calculate_overall_defense(df):\n",
    "    total_games = df['GP'].sum() + df['PostGP'].sum()\n",
    "\n",
    "    mean_drebounds = (df['dRebounds'].sum() + df['PostdRebounds'].sum()) / total_games if total_games > 0 else 1\n",
    "    mean_steals = (df['steals'].sum() + df['PostSteals'].sum()) / total_games if total_games > 0 else 1\n",
    "    mean_blocks = (df['blocks'].sum() + df['PostBlocks'].sum()) / total_games if total_games > 0 else 1\n",
    "\n",
    "    mean_turnovers = (df['turnovers'].sum() + df['PostTurnovers'].sum()) / total_games if total_games > 0 else 1\n",
    "    mean_pf = (df['PF'].sum() + df['PostPF'].sum()) / total_games if total_games > 0 else 1\n",
    "    mean_dq = (df['dq'].sum() + df['PostDQ'].sum())  / total_games if total_games > 0 else 0 \n",
    "\n",
    "    player_drebounds = (df['dRebounds'] + df['PostdRebounds']) / (df['GP'] + df['PostGP'])\n",
    "    player_steals = (df['steals'] + df['PostSteals']) / (df['GP'] + df['PostGP'])\n",
    "    player_blocks = (df['blocks'] + df['PostBlocks']) / (df['GP'] + df['PostGP'])\n",
    "\n",
    "    player_turnovers = (df['turnovers'] + df['PostTurnovers']) / (df['GP'] + df['PostGP'])\n",
    "    player_pf = (df['PF'] + df['PostPF']) / (df['GP'] + df['PostGP'])\n",
    "    player_dq = (df['dq'] + df['PostDQ']) / (df['GP'] + df['PostGP'])\n",
    "\n",
    "    overall_defense = (\n",
    "        (0.45 * (player_drebounds / mean_drebounds)) +\n",
    "        (0.2 * (player_steals / mean_steals)) + \n",
    "        (0.2 * (player_blocks / mean_blocks)) - \n",
    "        (0.05 * (player_turnovers / mean_turnovers)) - \n",
    "        (0.05 * (player_pf / mean_pf)) - \n",
    "        (0.05 * (player_dq / mean_dq))      \n",
    "    )\n",
    "    \n",
    "    overall_defense = np.clip(overall_defense * 5, 1, 10)\n",
    "    return overall_defense.round(1)\n",
    "\n",
    "players_teams_cleaned['overallDEFENSE'] = calculate_overall_defense(players_teams_cleaned)"
   ]
  },
  {
   "cell_type": "markdown",
   "metadata": {},
   "source": [
    "### **IV.2.3 Ofense Overall Calculation**\n",
    "\n",
    "This section calculates the \"Offense\" overall for each player based on their offensive performance metrics. The calculation considers various factors such as points scored, assists, field goals made, free throws made, three-pointers made, and offensive rebounds. The formula applies different weights to each factor to determine a player's offensive contribution.\n",
    "\n",
    "The formula assigns different weights to each factor:\n",
    "- 40% weight on points\n",
    "- 25% weight on assists\n",
    "- 10% weight on field goals made, free throws made, and three-pointers made\n",
    "- 5% weight on offensive rebounds\n",
    "\n",
    "Each player's offensive score is then scaled to a range between 1 and 10."
   ]
  },
  {
   "cell_type": "code",
   "execution_count": 41,
   "metadata": {},
   "outputs": [],
   "source": [
    "def calculate_overall_offense(df):\n",
    "    total_games = df['GP'].sum() + df['PostGP'].sum()\n",
    "\n",
    "    mean_points = (df['points'].sum() + df['PostPoints'].sum()) / total_games if total_games > 0 else 1\n",
    "    mean_assists = (df['assists'].sum() + df['PostAssists'].sum()) / total_games if total_games > 0 else 1\n",
    "    mean_fgMade = (df['fgMade'].sum() + df['PostfgMade'].sum()) / total_games if total_games > 0 else 1\n",
    "    mean_ftMade = (df['ftMade'].sum() + df['PostftMade'].sum()) / total_games if total_games > 0 else 1\n",
    "    mean_threeMade = (df['threeMade'].sum() + df['PostthreeMade'].sum()) / total_games if total_games > 0 else 1\n",
    "\n",
    "    mean_orebounds = (df['oRebounds'].sum() + df['PostoRebounds'].sum()) / total_games if total_games > 0 else 1\n",
    "\n",
    "    player_points = (df['points'] + df['PostPoints']) / (df['GP'] + df['PostGP'])\n",
    "    player_assists = (df['assists'] + df['PostAssists']) / (df['GP'] + df['PostGP'])\n",
    "    player_fgMade = (df['fgMade'] + df['PostfgMade']) / (df['GP'] + df['PostGP'])\n",
    "    player_ftMade = (df['ftMade'] + df['PostftMade']) / (df['GP'] + df['PostGP'])\n",
    "    player_threeMade = (df['threeMade'] + df['PostthreeMade']) / (df['GP'] + df['PostGP'])\n",
    "\n",
    "    player_orebounds = (df['oRebounds'] + df['PostoRebounds']) / (df['GP'] + df['PostGP'])\n",
    "\n",
    "    overall_offense = (\n",
    "        (0.4 * (player_points / mean_points)) +\n",
    "        (0.25 * (player_assists / mean_assists)) +\n",
    "        (0.1 * (player_fgMade / mean_fgMade)) +\n",
    "        (0.1 * (player_ftMade / mean_ftMade)) +\n",
    "        (0.1 * (player_threeMade / mean_threeMade)) +\n",
    "        (0.05 * (player_orebounds / mean_orebounds))\n",
    "    )\n",
    "\n",
    "    overall_offense = np.clip(overall_offense * 5, 1, 10)\n",
    "    return overall_offense.round(1)\n",
    "\n",
    "players_teams_cleaned['overallOFFENSE'] = calculate_overall_offense(players_teams_cleaned)"
   ]
  },
  {
   "cell_type": "markdown",
   "metadata": {},
   "source": [
    "### **IV.2.4 Overall Combined Calculation**\n",
    "\n",
    "This section calculates a player's combined overall performance by merging the individual ratings for stamina, defense, and offense. The final score is a weighted sum of the three individual metrics, with defense and offense having higher importance than stamina.\n",
    "\n",
    "The combined overall score is then clipped to a range of 1 to 10 to standardize the results. Finally, the combined overall score is rounded to one decimal place for easier interpretation.\n"
   ]
  },
  {
   "cell_type": "code",
   "execution_count": 42,
   "metadata": {},
   "outputs": [],
   "source": [
    "def prepare_player_data(players_teams_df, players_df, awards_df):\n",
    "    player_height = players_df[['bioID', 'height']].copy()\n",
    "    player_height.columns = ['playerID', 'height']\n",
    "    \n",
    "    player_height['height_normalized'] = (player_height['height'] - player_height['height'].min()) / \\\n",
    "                                       (player_height['height'].max() - player_height['height'].min())\n",
    "    \n",
    "    awards_count = awards_df.groupby('playerID').size().reset_index(name='award_count')\n",
    "    \n",
    "    max_awards = awards_count['award_count'].max()\n",
    "    awards_count['awards_normalized'] = awards_count['award_count'] / max_awards if max_awards > 0 else 0\n",
    "    \n",
    "    return player_height, awards_count\n",
    "\n",
    "def calculate_enhanced_overall(df, player_height_df, awards_df):\n",
    "    base_overall = (\n",
    "        (0.18 * df['overallSTAMINA']) +  # Reduced from 0.2\n",
    "        (0.37 * df['overallDEFENSE']) +  # Reduced from 0.4\n",
    "        (0.37 * df['overallOFFENSE'])    # Reduced from 0.4\n",
    "    )\n",
    "    \n",
    "    df = df.merge(player_height_df[['playerID', 'height_normalized']], \n",
    "                 on='playerID', \n",
    "                 how='left')\n",
    "    \n",
    "    df = df.merge(awards_df[['playerID', 'awards_normalized']], \n",
    "                 on='playerID', \n",
    "                 how='left')\n",
    "    \n",
    "    df['height_normalized'] = df['height_normalized'].fillna(0)\n",
    "    df['awards_normalized'] = df['awards_normalized'].fillna(0)\n",
    "    \n",
    "    enhanced_overall = base_overall + \\\n",
    "                      (0.04 * df['height_normalized'] * 10) + \\\n",
    "                      (0.04 * df['awards_normalized'] * 10)\n",
    "    \n",
    "    enhanced_overall = np.clip(enhanced_overall, 1, 10)\n",
    "    \n",
    "    percentile_95 = np.percentile(enhanced_overall, 95)\n",
    "    enhanced_overall = np.where(\n",
    "        enhanced_overall > percentile_95,\n",
    "        percentile_95 + (enhanced_overall - percentile_95) * 0.5,\n",
    "        enhanced_overall\n",
    "    )\n",
    "    \n",
    "    return enhanced_overall.round(1)\n",
    "\n",
    "player_height_df, awards_count_df = prepare_player_data(\n",
    "    players_teams_cleaned, \n",
    "    players_cleaned, \n",
    "    awards_players_cleaned\n",
    ")\n",
    "\n",
    "players_teams_cleaned['OVERALL'] = calculate_enhanced_overall(\n",
    "    players_teams_cleaned,\n",
    "    player_height_df,\n",
    "    awards_count_df\n",
    ")\n",
    "\n",
    "players_teams_cleaned.to_csv('../data/basketballPlayoffs_cleaned/players_teams_cleaned.csv', index=False)\n",
    "\n",
    "players_overall_avg = players_teams_cleaned.groupby('playerID')['OVERALL'].mean().reset_index()\n",
    "players_overall_avg.rename(columns={'OVERALL': 'OVERALL_ALL_TIME'}, inplace=True)\n",
    "players_overall_avg['OVERALL_ALL_TIME'] = players_overall_avg['OVERALL_ALL_TIME'].round(1)\n",
    "players_overall_avg.to_csv('../data/basketballPlayoffs_cleaned/players_overall_all_time.csv', index=False)"
   ]
  },
  {
   "cell_type": "markdown",
   "metadata": {},
   "source": [
    "### **IV.2.5 Export Updated DataFrame with overalls**\n",
    "\n",
    "After calculating the combined overall scores for each player, the updated DataFrame (`players_teams_cleaned`) is exported to a CSV file."
   ]
  },
  {
   "cell_type": "code",
   "execution_count": 43,
   "metadata": {},
   "outputs": [],
   "source": [
    "players_teams_cleaned.to_csv('../data/basketballPlayoffs_cleaned/players_teams_cleaned.csv', index=False)"
   ]
  },
  {
   "cell_type": "markdown",
   "metadata": {},
   "source": [
    "### **IV.2.6 All time Overall**\n",
    "In this step, the average overall score for each player across all seasons is calculated. This represents each player's performance over time. The DataFrame is then saved to a new CSV file."
   ]
  },
  {
   "cell_type": "code",
   "execution_count": 44,
   "metadata": {},
   "outputs": [],
   "source": [
    "players_overall_avg = players_teams_cleaned.groupby('playerID')['OVERALL'].mean().reset_index()\n",
    "\n",
    "players_overall_avg.rename(columns={'OVERALL': 'OVERALL_ALL_TIME'}, inplace=True)\n",
    "\n",
    "players_overall_avg['OVERALL_ALL_TIME'] = players_overall_avg['OVERALL_ALL_TIME'].round(1)\n",
    "\n",
    "players_overall_avg.to_csv('../data/basketballPlayoffs_cleaned/players_overall_all_time.csv', index=False)"
   ]
  },
  {
   "cell_type": "markdown",
   "metadata": {},
   "source": [
    "## **IV.3 Rookies Average Overall Calculation**\n",
    "\n",
    "In this step, we calculate the average overall score for rookie players. A rookie is identified by the earliest year recorded in the dataset for each player. The code then filters out rookie players and calculates their average overall score, which is saved in a new CSV file for future use."
   ]
  },
  {
   "cell_type": "code",
   "execution_count": 45,
   "metadata": {},
   "outputs": [],
   "source": [
    "rookie_year = players_teams_cleaned.groupby('playerID')['year'].min()\n",
    "\n",
    "players_teams_cleaned['is_rookie'] = players_teams_cleaned.apply(\n",
    "    lambda row: 1 if row['year'] == rookie_year[row['playerID']] else 0,\n",
    "    axis=1\n",
    ")\n",
    "\n",
    "players_teams_cleaned.to_csv('../data/basketballPlayoffs_cleaned/players_teams_cleaned.csv', index=False)\n",
    "\n",
    "rookie_players = players_teams_cleaned[players_teams_cleaned['is_rookie'] == 1]\n",
    "\n",
    "rookie_overall_avg = rookie_players['OVERALL'].mean().round(1)\n",
    "\n",
    "rookie_overall_avg_df = pd.DataFrame({'rookie_overall_avg': [rookie_overall_avg]})\n",
    "\n",
    "rookie_overall_avg_df.to_csv('../data/basketballPlayoffs_cleaned/rookie_overall_avg.csv', index=False)"
   ]
  },
  {
   "cell_type": "markdown",
   "metadata": {},
   "source": [
    "## **IV.4 Coaches Overall Calculation**\n",
    "\n",
    "### **IV4.1 Coach Overall**\n",
    "\n",
    "This function calculates an overall performance rating for each coach based on their win/loss record during regular and post-seasons.\n",
    "\n",
    "The rating is then added as a new column `OVERALL` to the `coaches_cleaned` dataset and saved as a CSV file."
   ]
  },
  {
   "cell_type": "code",
   "execution_count": 46,
   "metadata": {},
   "outputs": [],
   "source": [
    "def calculate_overall_coach(df):\n",
    "    total_wins = df['won'].sum() + df['post_wins'].sum()\n",
    "    total_losses = df['lost'].sum() + df['post_losses'].sum()\n",
    "    \n",
    "    total_games = total_wins + total_losses\n",
    "\n",
    "    win_percentage = total_wins / total_games if total_games > 0 else 0\n",
    "\n",
    "    total_wins_per_coach = df['won'] + df['post_wins']\n",
    "    total_losses_per_coach = df['lost'] + df['post_losses']\n",
    "    \n",
    "    coach_win_percentage = total_wins_per_coach / (total_wins_per_coach + total_losses_per_coach)\n",
    "\n",
    "    relative_performance = coach_win_percentage / win_percentage \n",
    "    \n",
    "    overall = np.clip(relative_performance * 6, 1, 10) \n",
    "    return overall.round(1)\n",
    "\n",
    "coaches_cleaned['OVERALL'] = calculate_overall_coach(coaches_cleaned)\n",
    "\n",
    "coaches_cleaned.to_csv('../data/basketballPlayoffs_cleaned/coaches_cleaned.csv', index=False)"
   ]
  },
  {
   "cell_type": "markdown",
   "metadata": {},
   "source": [
    "### **IV4.2 All time Coach Overall**\n",
    "In this step, the average overall score for each coach across all seasons is calculated. This represents each coach performance over time. The DataFrame is then saved to a new CSV file."
   ]
  },
  {
   "cell_type": "code",
   "execution_count": 47,
   "metadata": {},
   "outputs": [],
   "source": [
    "coaches_cleaned = pd.read_csv('../data/basketballPlayoffs_cleaned/coaches_cleaned.csv')\n",
    "\n",
    "coaches_overall_avg = coaches_cleaned.groupby('coachID')['OVERALL'].mean().reset_index()\n",
    "\n",
    "coaches_overall_avg.rename(columns={'OVERALL': 'OVERALL_ALL_TIME'}, inplace=True)\n",
    "\n",
    "coaches_overall_avg['OVERALL_ALL_TIME'] = coaches_overall_avg['OVERALL_ALL_TIME'].round(1)\n",
    "\n",
    "coaches_overall_avg.to_csv('../data/basketballPlayoffs_cleaned/coaches_overall_all_time.csv', index=False)"
   ]
  },
  {
   "cell_type": "markdown",
   "metadata": {},
   "source": [
    "### **IV4.3 Coach Rookies Average Overall**\n",
    "\n",
    "In this step, we calculate the average overall score for rookie coaches. A rookie is identified by the earliest year recorded in the dataset for each coach. The code then filters out rookie coaches and calculates their average overall score, which is saved in a new CSV file for future use."
   ]
  },
  {
   "cell_type": "code",
   "execution_count": 48,
   "metadata": {},
   "outputs": [],
   "source": [
    "rookie_year = coaches_cleaned.groupby('coachID')['year'].min()\n",
    "\n",
    "coaches_cleaned['is_rookie'] = coaches_cleaned.apply(\n",
    "    lambda row: 1 if row['year'] == rookie_year[row['coachID']] else 0,\n",
    "    axis=1\n",
    ")\n",
    "\n",
    "rookie_coaches = coaches_cleaned[coaches_cleaned['is_rookie'] == 1]\n",
    "\n",
    "rookie_overall_avg = rookie_coaches['OVERALL'].mean().round(1)\n",
    "\n",
    "rookie_overall_avg_df = pd.DataFrame({'rookie_overall_avg': [rookie_overall_avg]})\n",
    "\n",
    "rookie_overall_avg_df.to_csv('../data/basketballPlayoffs_cleaned/rookie_overall_coaches_avg.csv', index=False)\n",
    "\n",
    "coaches_cleaned.to_csv('../data/basketballPlayoffs_cleaned/coaches_cleaned.csv', index=False)\n"
   ]
  }
 ],
 "metadata": {
  "kernelspec": {
   "display_name": "Python 3",
   "language": "python",
   "name": "python3"
  },
  "language_info": {
   "codemirror_mode": {
    "name": "ipython",
    "version": 3
   },
   "file_extension": ".py",
   "mimetype": "text/x-python",
   "name": "python",
   "nbconvert_exporter": "python",
   "pygments_lexer": "ipython3",
   "version": "3.12.3"
  }
 },
 "nbformat": 4,
 "nbformat_minor": 2
}
