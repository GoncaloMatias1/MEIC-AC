{
 "cells": [
  {
   "cell_type": "markdown",
   "metadata": {},
   "source": [
    "# Feature Engineering\n",
    "\n",
    "## 1. Import Libraries and Load Data"
   ]
  },
  {
   "cell_type": "code",
   "execution_count": 1,
   "metadata": {},
   "outputs": [],
   "source": [
    "import pandas as pd\n",
    "import numpy as np\n",
    "import matplotlib.pyplot as plt\n",
    "import seaborn as sns\n",
    "import os\n",
    "\n",
    "awards_players_cleaned = pd.read_csv('../data/basketballPlayoffs_cleaned/awards_players_cleaned.csv')\n",
    "coaches_cleaned = pd.read_csv('../data/basketballPlayoffs_cleaned/coaches_cleaned.csv')\n",
    "players_cleaned = pd.read_csv('../data/basketballPlayoffs_cleaned/players_cleaned.csv')\n",
    "players_teams_cleaned = pd.read_csv('../data/basketballPlayoffs_cleaned/players_teams_cleaned.csv')\n",
    "series_post_cleaned = pd.read_csv('../data/basketballPlayoffs_cleaned/series_post_cleaned.csv')\n",
    "teams_cleaned = pd.read_csv('../data/basketballPlayoffs_cleaned/teams_cleaned.csv')\n",
    "teams_post_cleaned = pd.read_csv('../data/basketballPlayoffs_cleaned/teams_post_cleaned.csv')"
   ]
  },
  {
   "cell_type": "markdown",
   "metadata": {},
   "source": [
    "## 2. Overall Calculation\n",
    "### 2.1 Stamina Overall Calculation\n",
    "\n",
    "The `calculate_stamina` function computes players overall stamina based on their game and minute statistics."
   ]
  },
  {
   "cell_type": "code",
   "execution_count": 2,
   "metadata": {},
   "outputs": [],
   "source": [
    "def calculate_stamina(df):\n",
    "    total_games = df['GP'].sum() + df['PostGP'].sum()\n",
    "    total_minutes = df['minutes'].sum() + df['PostMinutes'].sum()\n",
    "\n",
    "    mean_games = total_games / len(df)\n",
    "    mean_minutes = total_minutes / len(df)\n",
    "\n",
    "    overall_stamina = (\n",
    "        (0.3 * (df['GP'] + df['PostGP']) / mean_games) + \n",
    "        (0.7 * (df['minutes'] + df['PostMinutes']) / mean_minutes)\n",
    "    )\n",
    "\n",
    "    overall_stamina = np.clip(overall_stamina * 5, 1, 10)\n",
    "    return overall_stamina.round(1)\n",
    "\n",
    "players_teams_cleaned['overallSTAMINA'] = calculate_stamina(players_teams_cleaned)\n"
   ]
  },
  {
   "cell_type": "markdown",
   "metadata": {},
   "source": [
    "### 2.2 Defense Overall Calculation\n",
    "\n",
    "The `calculate_overall_defense` function computes players overall defensive metrics based on various statistics."
   ]
  },
  {
   "cell_type": "code",
   "execution_count": 3,
   "metadata": {},
   "outputs": [],
   "source": [
    "def calculate_overall_defense(df):\n",
    "    total_games = df['GP'].sum() + df['PostGP'].sum()\n",
    "\n",
    "    mean_drebounds = (df['dRebounds'].sum() + df['PostdRebounds'].sum()) / total_games if total_games > 0 else 1\n",
    "    mean_steals = (df['steals'].sum() + df['PostSteals'].sum()) / total_games if total_games > 0 else 1\n",
    "    mean_blocks = (df['blocks'].sum() + df['PostBlocks'].sum()) / total_games if total_games > 0 else 1\n",
    "    mean_oRebounds = (df['oRebounds'].sum() + df['PostoRebounds'].sum()) / total_games if total_games > 0 else 1\n",
    "\n",
    "    player_drebounds = (df['dRebounds'] + df['PostdRebounds']) / (df['GP'] + df['PostGP'])\n",
    "    player_steals = (df['steals'] + df['PostSteals']) / (df['GP'] + df['PostGP'])\n",
    "    player_blocks = (df['blocks'] + df['PostBlocks']) / (df['GP'] + df['PostGP'])\n",
    "    player_oRebounds = (df['oRebounds'] + df['PostoRebounds']) / (df['GP'] + df['PostGP'])\n",
    "\n",
    "    overall_defense = (\n",
    "        (0.4 * (player_drebounds / mean_drebounds)) + \n",
    "        (0.2 * (player_steals / mean_steals)) + \n",
    "        (0.2 * (player_blocks / mean_blocks)) + \n",
    "        (0.2 * (player_oRebounds / mean_oRebounds))\n",
    "    )\n",
    "    \n",
    "    overall_defense = np.clip(overall_defense * 10, 1, 10)\n",
    "    return overall_defense.round(1)\n",
    "\n",
    "players_teams_cleaned['overallDEFENSE'] = calculate_overall_defense(players_teams_cleaned)"
   ]
  },
  {
   "cell_type": "markdown",
   "metadata": {},
   "source": [
    "### 2.3 Defense Overall Calculation\n",
    "\n",
    "The `calculate_overall_offense` function computes players overall offense metrics based on various statistics."
   ]
  },
  {
   "cell_type": "code",
   "execution_count": 4,
   "metadata": {},
   "outputs": [],
   "source": [
    "def calculate_overall_offense(df):\n",
    "    total_games = df['GP'].sum() + df['PostGP'].sum()\n",
    "\n",
    "    mean_points = (df['points'].sum() + df['PostPoints'].sum()) / total_games if total_games > 0 else 1\n",
    "    mean_assists = (df['assists'].sum() + df['PostAssists'].sum()) / total_games if total_games > 0 else 1\n",
    "    mean_fgMade = (df['fgMade'].sum() + df['PostfgMade'].sum()) / total_games if total_games > 0 else 1\n",
    "    mean_ftMade = (df['ftMade'].sum() + df['PostftMade'].sum()) / total_games if total_games > 0 else 1\n",
    "    mean_threeMade = (df['threeMade'].sum() + df['PostthreeMade'].sum()) / total_games if total_games > 0 else 1\n",
    "\n",
    "    player_points = (df['points'] + df['PostPoints']) / (df['GP'] + df['PostGP'])\n",
    "    player_assists = (df['assists'] + df['PostAssists']) / (df['GP'] + df['PostGP'])\n",
    "    player_fgMade = (df['fgMade'] + df['PostfgMade']) / (df['GP'] + df['PostGP'])\n",
    "    player_ftMade = (df['ftMade'] + df['PostftMade']) / (df['GP'] + df['PostGP'])\n",
    "    player_threeMade = (df['threeMade'] + df['PostthreeMade']) / (df['GP'] + df['PostGP'])\n",
    "\n",
    "    overall_offense = (\n",
    "        (0.4 * (player_points / mean_points)) +\n",
    "        (0.3 * (player_assists / mean_assists)) +\n",
    "        (0.1 * (player_fgMade / mean_fgMade)) +\n",
    "        (0.1 * (player_ftMade / mean_ftMade)) +\n",
    "        (0.1 * (player_threeMade / mean_threeMade))\n",
    "    )\n",
    "\n",
    "    overall_offense = np.clip(overall_offense * 10, 1, 10)\n",
    "    return overall_offense.round(1)\n",
    "\n",
    "players_teams_cleaned['overallOFFENSE'] = calculate_overall_offense(players_teams_cleaned)"
   ]
  },
  {
   "cell_type": "markdown",
   "metadata": {},
   "source": [
    "### 2.3 Overall Combined Calculation\n",
    "\n",
    "The `calculate_overall_combined` function computes a player overall rating by averaging their stamina, defense, and offense scores."
   ]
  },
  {
   "cell_type": "code",
   "execution_count": 5,
   "metadata": {},
   "outputs": [],
   "source": [
    "def calculate_overall_combined(df):\n",
    "    combined_overall = (\n",
    "        df['overallSTAMINA'] + \n",
    "        df['overallDEFENSE'] + \n",
    "        df['overallOFFENSE']\n",
    "    ) / 3\n",
    "    \n",
    "    combined_overall = np.clip(combined_overall, 1, 10)\n",
    "    return combined_overall.round(1)\n",
    "\n",
    "players_teams_cleaned['OVERALL'] = calculate_overall_combined(players_teams_cleaned)"
   ]
  },
  {
   "cell_type": "markdown",
   "metadata": {},
   "source": [
    "# 3. Export Updated DataFrame with overalls"
   ]
  },
  {
   "cell_type": "code",
   "execution_count": 6,
   "metadata": {},
   "outputs": [],
   "source": [
    "players_teams_cleaned.to_csv('../data/basketballPlayoffs_cleaned/players_teams_cleaned.csv', index=False)"
   ]
  }
 ],
 "metadata": {
  "kernelspec": {
   "display_name": "Python 3",
   "language": "python",
   "name": "python3"
  },
  "language_info": {
   "codemirror_mode": {
    "name": "ipython",
    "version": 3
   },
   "file_extension": ".py",
   "mimetype": "text/x-python",
   "name": "python",
   "nbconvert_exporter": "python",
   "pygments_lexer": "ipython3",
   "version": "3.12.3"
  }
 },
 "nbformat": 4,
 "nbformat_minor": 2
}
