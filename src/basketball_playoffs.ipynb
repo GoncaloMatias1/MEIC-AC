{
 "cells": [
  {
   "cell_type": "markdown",
   "metadata": {},
   "source": [
    "# Import necessary libraries and load data from CSV files"
   ]
  },
  {
   "cell_type": "code",
   "execution_count": 42,
   "metadata": {},
   "outputs": [],
   "source": [
    "import pandas as pd\n",
    "import numpy as np\n",
    "import matplotlib.pyplot as plt\n",
    "import seaborn as sns\n",
    "\n",
    "awards_players = pd.read_csv('../data/basketballPlayoffs/awards_players.csv')\n",
    "coaches = pd.read_csv('../data/basketballPlayoffs/coaches.csv')\n",
    "players = pd.read_csv('../data/basketballPlayoffs/players.csv')\n",
    "players_teams = pd.read_csv('../data/basketballPlayoffs/players_teams.csv')\n",
    "series_post = pd.read_csv('../data/basketballPlayoffs/series_post.csv')\n",
    "teams = pd.read_csv('../data/basketballPlayoffs/teams.csv')\n",
    "teams_post = pd.read_csv('../data/basketballPlayoffs/teams_post.csv')"
   ]
  },
  {
   "cell_type": "markdown",
   "metadata": {},
   "source": [
    "# Set display options to show all rows and adjust width"
   ]
  },
  {
   "cell_type": "code",
   "execution_count": 45,
   "metadata": {},
   "outputs": [],
   "source": [
    "pd.set_option('display.max_rows', None)  # Show all rows in output\n",
    "pd.set_option('display.width', 1000)  # Set display width"
   ]
  },
  {
   "cell_type": "markdown",
   "metadata": {},
   "source": [
    "# Display the first few rows of each DataFrame to understand the data structure"
   ]
  },
  {
   "cell_type": "code",
   "execution_count": null,
   "metadata": {},
   "outputs": [],
   "source": [
    "print(\"Awards Players Data:\")\n",
    "print(awards_players)\n",
    "print(\"\\nCoaches Data:\")\n",
    "print(coaches)\n",
    "print(\"\\nPlayers Data:\")\n",
    "print(players)\n",
    "print(\"\\nPlayers Teams Data:\")\n",
    "print(players_teams)\n",
    "print(\"\\nSeries Post Data:\")\n",
    "print(series_post)\n",
    "print(\"\\nTeams Data:\")\n",
    "print(teams)\n",
    "print(\"\\nTeams Post Data:\")\n",
    "print(teams_post)"
   ]
  },
  {
   "cell_type": "markdown",
   "metadata": {},
   "source": [
    "# Remove unnecessary columns from the awards_players DataFrame (for example)"
   ]
  },
  {
   "cell_type": "code",
   "execution_count": 50,
   "metadata": {},
   "outputs": [],
   "source": [
    "# awards_players = awards_players.drop(columns=['lgID'])"
   ]
  },
  {
   "cell_type": "markdown",
   "metadata": {},
   "source": [
    "# Save the cleaned DataFrame back to the same CSV file"
   ]
  },
  {
   "cell_type": "code",
   "execution_count": 49,
   "metadata": {},
   "outputs": [],
   "source": [
    "# awards_players.to_csv('../data/basketballPlayoffs/awards_players.csv', index=False)"
   ]
  }
 ],
 "metadata": {
  "kernelspec": {
   "display_name": "Python 3",
   "language": "python",
   "name": "python3"
  },
  "language_info": {
   "codemirror_mode": {
    "name": "ipython",
    "version": 3
   },
   "file_extension": ".py",
   "mimetype": "text/x-python",
   "name": "python",
   "nbconvert_exporter": "python",
   "pygments_lexer": "ipython3",
   "version": "3.10.10"
  }
 },
 "nbformat": 4,
 "nbformat_minor": 2
}
