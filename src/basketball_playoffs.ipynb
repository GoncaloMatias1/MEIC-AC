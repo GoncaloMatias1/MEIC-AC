{
 "cells": [
  {
   "cell_type": "code",
   "execution_count": 3,
   "metadata": {},
   "outputs": [],
   "source": [
    "import pandas as pd\n",
    "import numpy as np\n",
    "import matplotlib.pyplot as plt\n",
    "import seaborn as sns\n",
    "\n",
    "awards_players = pd.read_csv('../data/basketballPlayoffs/awards_players.csv')\n",
    "coaches = pd.read_csv('../data/basketballPlayoffs/coaches.csv')\n",
    "players = pd.read_csv('../data/basketballPlayoffs/players.csv')\n",
    "players_teams = pd.read_csv('../data/basketballPlayoffs/players_teams.csv')\n",
    "series_post = pd.read_csv('../data/basketballPlayoffs/series_post.csv')\n",
    "teams = pd.read_csv('../data/basketballPlayoffs/teams.csv')\n",
    "teams_post = pd.read_csv('../data/basketballPlayoffs/teams_post.csv')"
   ]
  }
 ],
 "metadata": {
  "kernelspec": {
   "display_name": "Python 3",
   "language": "python",
   "name": "python3"
  },
  "language_info": {
   "codemirror_mode": {
    "name": "ipython",
    "version": 3
   },
   "file_extension": ".py",
   "mimetype": "text/x-python",
   "name": "python",
   "nbconvert_exporter": "python",
   "pygments_lexer": "ipython3",
   "version": "3.10.10"
  }
 },
 "nbformat": 4,
 "nbformat_minor": 2
}
